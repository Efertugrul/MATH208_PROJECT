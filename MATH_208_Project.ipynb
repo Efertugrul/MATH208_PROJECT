{
  "nbformat": 4,
  "nbformat_minor": 0,
  "metadata": {
    "colab": {
      "provenance": [],
      "authorship_tag": "ABX9TyOApxBf7H1w+kHcF6NNuq6O",
      "include_colab_link": true
    },
    "kernelspec": {
      "name": "ir",
      "display_name": "R"
    },
    "language_info": {
      "name": "R"
    },
    "gpuClass": "standard"
  },
  "cells": [
    {
      "cell_type": "markdown",
      "metadata": {
        "id": "view-in-github",
        "colab_type": "text"
      },
      "source": [
        "<a href=\"https://colab.research.google.com/github/TheMathAI/MATH208_PROJECT/blob/main/MATH_208_Project.ipynb\" target=\"_parent\"><img src=\"https://colab.research.google.com/assets/colab-badge.svg\" alt=\"Open In Colab\"/></a>"
      ]
    },
    {
      "cell_type": "code",
      "source": [
        "# library\n",
        "library(tidyverse)"
      ],
      "metadata": {
        "colab": {
          "base_uri": "https://localhost:8080/"
        },
        "id": "cBsJvH-J_26t",
        "outputId": "6628b332-d39b-4670-ff9c-04a78fee3c70"
      },
      "execution_count": 11,
      "outputs": [
        {
          "output_type": "stream",
          "name": "stderr",
          "text": [
            "Warning message in system(\"timedatectl\", intern = TRUE):\n",
            "“running command 'timedatectl' had status 1”\n",
            "── \u001b[1mAttaching packages\u001b[22m ─────────────────────────────────────── tidyverse 1.3.1 ──\n",
            "\n",
            "\u001b[32m✔\u001b[39m \u001b[34mggplot2\u001b[39m 3.4.0      \u001b[32m✔\u001b[39m \u001b[34mpurrr  \u001b[39m 0.3.5 \n",
            "\u001b[32m✔\u001b[39m \u001b[34mtibble \u001b[39m 3.1.8      \u001b[32m✔\u001b[39m \u001b[34mdplyr  \u001b[39m 1.0.10\n",
            "\u001b[32m✔\u001b[39m \u001b[34mtidyr  \u001b[39m 1.2.1      \u001b[32m✔\u001b[39m \u001b[34mstringr\u001b[39m 1.4.1 \n",
            "\u001b[32m✔\u001b[39m \u001b[34mreadr  \u001b[39m 2.1.3      \u001b[32m✔\u001b[39m \u001b[34mforcats\u001b[39m 0.5.2 \n",
            "\n",
            "── \u001b[1mConflicts\u001b[22m ────────────────────────────────────────── tidyverse_conflicts() ──\n",
            "\u001b[31m✖\u001b[39m \u001b[34mdplyr\u001b[39m::\u001b[32mfilter()\u001b[39m masks \u001b[34mstats\u001b[39m::filter()\n",
            "\u001b[31m✖\u001b[39m \u001b[34mdplyr\u001b[39m::\u001b[32mlag()\u001b[39m    masks \u001b[34mstats\u001b[39m::lag()\n",
            "\n"
          ]
        }
      ]
    },
    {
      "cell_type": "code",
      "execution_count": 29,
      "metadata": {
        "colab": {
          "base_uri": "https://localhost:8080/",
          "height": 34
        },
        "id": "_GiPMqeK5tgy",
        "outputId": "91320154-f53a-44ac-c0da-96cbe4f43b92"
      },
      "outputs": [
        {
          "output_type": "display_data",
          "data": {
            "text/html": [
              "<style>\n",
              ".list-inline {list-style: none; margin:0; padding: 0}\n",
              ".list-inline>li {display: inline-block}\n",
              ".list-inline>li:not(:last-child)::after {content: \"\\00b7\"; padding: 0 .5ex}\n",
              "</style>\n",
              "<ol class=list-inline><li>'ID'</li><li>'Product'</li><li>'Type'</li><li>'Release.Date'</li><li>'Process.Size..nm.'</li><li>'TDP..W.'</li><li>'Die.Size..mm.2.'</li><li>'Transistors..million.'</li><li>'Freq..MHz.'</li><li>'Foundry'</li><li>'Vendor'</li><li>'FP16.GFLOPS'</li><li>'FP32.GFLOPS'</li><li>'FP64.GFLOPS'</li></ol>\n"
            ],
            "text/markdown": "1. 'ID'\n2. 'Product'\n3. 'Type'\n4. 'Release.Date'\n5. 'Process.Size..nm.'\n6. 'TDP..W.'\n7. 'Die.Size..mm.2.'\n8. 'Transistors..million.'\n9. 'Freq..MHz.'\n10. 'Foundry'\n11. 'Vendor'\n12. 'FP16.GFLOPS'\n13. 'FP32.GFLOPS'\n14. 'FP64.GFLOPS'\n\n\n",
            "text/latex": "\\begin{enumerate*}\n\\item 'ID'\n\\item 'Product'\n\\item 'Type'\n\\item 'Release.Date'\n\\item 'Process.Size..nm.'\n\\item 'TDP..W.'\n\\item 'Die.Size..mm.2.'\n\\item 'Transistors..million.'\n\\item 'Freq..MHz.'\n\\item 'Foundry'\n\\item 'Vendor'\n\\item 'FP16.GFLOPS'\n\\item 'FP32.GFLOPS'\n\\item 'FP64.GFLOPS'\n\\end{enumerate*}\n",
            "text/plain": [
              " [1] \"ID\"                    \"Product\"               \"Type\"                 \n",
              " [4] \"Release.Date\"          \"Process.Size..nm.\"     \"TDP..W.\"              \n",
              " [7] \"Die.Size..mm.2.\"       \"Transistors..million.\" \"Freq..MHz.\"           \n",
              "[10] \"Foundry\"               \"Vendor\"                \"FP16.GFLOPS\"          \n",
              "[13] \"FP32.GFLOPS\"           \"FP64.GFLOPS\"          "
            ]
          },
          "metadata": {}
        }
      ],
      "source": [
        "# taking data from github to a dataframe\n",
        "cpu_gpu_data <- read.csv(\"https://raw.githubusercontent.com/TheMathAI/MATH208_PROJECT/main/chip_dataset.csv\")\n",
        "\n",
        "names(cpu_gpu_data)"
      ]
    },
    {
      "cell_type": "code",
      "source": [
        "# replacing columns names to get initial columns names\n",
        "colnames(cpu_gpu_data) <- c('ID', 'Product', 'Type', 'Release Date', 'Process Size (nm)', 'TDP (W)', 'Die Size (mm^2)', 'Transistors (million)', 'Freq (MHz)', 'Foundry', 'Vendor', 'FP16 GFLOPS', 'FP32 GFLOPS', 'FP64 GFLOPD')\n",
        "names(cpu_gpu_data)"
      ],
      "metadata": {
        "colab": {
          "base_uri": "https://localhost:8080/",
          "height": 34
        },
        "id": "aoz8b0QTC02T",
        "outputId": "d2f36c06-2adc-4327-efcf-eab09800dad8"
      },
      "execution_count": 27,
      "outputs": [
        {
          "output_type": "display_data",
          "data": {
            "text/html": [
              "<style>\n",
              ".list-inline {list-style: none; margin:0; padding: 0}\n",
              ".list-inline>li {display: inline-block}\n",
              ".list-inline>li:not(:last-child)::after {content: \"\\00b7\"; padding: 0 .5ex}\n",
              "</style>\n",
              "<ol class=list-inline><li>'ID'</li><li>'Product'</li><li>'Type'</li><li>'Release Date'</li><li>'Process Size (nm)'</li><li>'TDP (W)'</li><li>'Die Size (mm^2)'</li><li>'Transistors (million)'</li><li>'Freq (MHz)'</li><li>'Foundry'</li><li>'Vendor'</li><li>'FP16 GFLOPS'</li><li>'FP32 GFLOPS'</li><li>'FP64 GFLOPD'</li></ol>\n"
            ],
            "text/markdown": "1. 'ID'\n2. 'Product'\n3. 'Type'\n4. 'Release Date'\n5. 'Process Size (nm)'\n6. 'TDP (W)'\n7. 'Die Size (mm^2)'\n8. 'Transistors (million)'\n9. 'Freq (MHz)'\n10. 'Foundry'\n11. 'Vendor'\n12. 'FP16 GFLOPS'\n13. 'FP32 GFLOPS'\n14. 'FP64 GFLOPD'\n\n\n",
            "text/latex": "\\begin{enumerate*}\n\\item 'ID'\n\\item 'Product'\n\\item 'Type'\n\\item 'Release Date'\n\\item 'Process Size (nm)'\n\\item 'TDP (W)'\n\\item 'Die Size (mm\\textasciicircum{}2)'\n\\item 'Transistors (million)'\n\\item 'Freq (MHz)'\n\\item 'Foundry'\n\\item 'Vendor'\n\\item 'FP16 GFLOPS'\n\\item 'FP32 GFLOPS'\n\\item 'FP64 GFLOPD'\n\\end{enumerate*}\n",
            "text/plain": [
              " [1] \"ID\"                    \"Product\"               \"Type\"                 \n",
              " [4] \"Release Date\"          \"Process Size (nm)\"     \"TDP (W)\"              \n",
              " [7] \"Die Size (mm^2)\"       \"Transistors (million)\" \"Freq (MHz)\"           \n",
              "[10] \"Foundry\"               \"Vendor\"                \"FP16 GFLOPS\"          \n",
              "[13] \"FP32 GFLOPS\"           \"FP64 GFLOPD\"          "
            ]
          },
          "metadata": {}
        }
      ]
    },
    {
      "cell_type": "code",
      "source": [
        "cpu_gpu_data"
      ],
      "metadata": {
        "colab": {
          "base_uri": "https://localhost:8080/",
          "height": 1000
        },
        "id": "gVnfrdZq_hCC",
        "outputId": "5845257e-34ff-4fe3-d2d4-2c97cab4bd67"
      },
      "execution_count": 28,
      "outputs": [
        {
          "output_type": "display_data",
          "data": {
            "text/html": [
              "<table class=\"dataframe\">\n",
              "<caption>A data.frame: 4854 × 14</caption>\n",
              "<thead>\n",
              "\t<tr><th scope=col>ID</th><th scope=col>Product</th><th scope=col>Type</th><th scope=col>Release Date</th><th scope=col>Process Size (nm)</th><th scope=col>TDP (W)</th><th scope=col>Die Size (mm^2)</th><th scope=col>Transistors (million)</th><th scope=col>Freq (MHz)</th><th scope=col>Foundry</th><th scope=col>Vendor</th><th scope=col>FP16 GFLOPS</th><th scope=col>FP32 GFLOPS</th><th scope=col>FP64 GFLOPD</th></tr>\n",
              "\t<tr><th scope=col>&lt;int&gt;</th><th scope=col>&lt;chr&gt;</th><th scope=col>&lt;chr&gt;</th><th scope=col>&lt;chr&gt;</th><th scope=col>&lt;dbl&gt;</th><th scope=col>&lt;dbl&gt;</th><th scope=col>&lt;dbl&gt;</th><th scope=col>&lt;dbl&gt;</th><th scope=col>&lt;dbl&gt;</th><th scope=col>&lt;chr&gt;</th><th scope=col>&lt;chr&gt;</th><th scope=col>&lt;dbl&gt;</th><th scope=col>&lt;dbl&gt;</th><th scope=col>&lt;dbl&gt;</th></tr>\n",
              "</thead>\n",
              "<tbody>\n",
              "\t<tr><td> 0</td><td>AMD Athlon 64 3500+      </td><td>CPU</td><td>2007-02-20</td><td> 65</td><td> 45</td><td> 77</td><td> 122</td><td>2200</td><td>Unknown</td><td>AMD  </td><td>NA</td><td>NA</td><td>NA</td></tr>\n",
              "\t<tr><td> 1</td><td>AMD Athlon 200GE         </td><td>CPU</td><td>2018-09-06</td><td> 14</td><td> 35</td><td>192</td><td>4800</td><td>3200</td><td>Unknown</td><td>AMD  </td><td>NA</td><td>NA</td><td>NA</td></tr>\n",
              "\t<tr><td> 2</td><td>Intel Core i5-1145G7     </td><td>CPU</td><td>2020-09-02</td><td> 10</td><td> 28</td><td> NA</td><td>  NA</td><td>2600</td><td>Intel  </td><td>Intel</td><td>NA</td><td>NA</td><td>NA</td></tr>\n",
              "\t<tr><td> 3</td><td>Intel Xeon E5-2603 v2    </td><td>CPU</td><td>2013-09-01</td><td> 22</td><td> 80</td><td>160</td><td>1400</td><td>1800</td><td>Intel  </td><td>Intel</td><td>NA</td><td>NA</td><td>NA</td></tr>\n",
              "\t<tr><td> 4</td><td>AMD Phenom II X4 980 BE  </td><td>CPU</td><td>2011-05-03</td><td> 45</td><td>125</td><td>258</td><td> 758</td><td>3700</td><td>Unknown</td><td>AMD  </td><td>NA</td><td>NA</td><td>NA</td></tr>\n",
              "\t<tr><td> 5</td><td>Intel Xeon E5-2470 v2    </td><td>CPU</td><td>2013-09-01</td><td> 22</td><td> 95</td><td>160</td><td>1400</td><td>2400</td><td>Intel  </td><td>Intel</td><td>NA</td><td>NA</td><td>NA</td></tr>\n",
              "\t<tr><td> 6</td><td>AMD Phenom X4 9750 (125W)</td><td>CPU</td><td>2008-03-27</td><td> 65</td><td>125</td><td>285</td><td> 450</td><td>2400</td><td>Unknown</td><td>AMD  </td><td>NA</td><td>NA</td><td>NA</td></tr>\n",
              "\t<tr><td> 7</td><td>Intel Pentium D 930      </td><td>CPU</td><td>2006-01-16</td><td> 65</td><td>130</td><td>140</td><td> 376</td><td>3000</td><td>Intel  </td><td>Intel</td><td>NA</td><td>NA</td><td>NA</td></tr>\n",
              "\t<tr><td> 8</td><td>Intel Core i3-1125G4     </td><td>CPU</td><td>2020-09-02</td><td> 10</td><td> 28</td><td> NA</td><td>  NA</td><td>2000</td><td>Intel  </td><td>Intel</td><td>NA</td><td>NA</td><td>NA</td></tr>\n",
              "\t<tr><td> 9</td><td>AMD Athlon 64 X2 4200+   </td><td>CPU</td><td>2006-05-23</td><td> 90</td><td> 89</td><td>156</td><td> 154</td><td>2200</td><td>Unknown</td><td>AMD  </td><td>NA</td><td>NA</td><td>NA</td></tr>\n",
              "\t<tr><td>10</td><td>AMD Sempron 2800+        </td><td>CPU</td><td>2004-08-01</td><td>130</td><td> 62</td><td> 80</td><td>  37</td><td>1992</td><td>Unknown</td><td>AMD  </td><td>NA</td><td>NA</td><td>NA</td></tr>\n",
              "\t<tr><td>11</td><td>Intel Core i7-3632QM     </td><td>CPU</td><td>2012-10-19</td><td> 22</td><td> 35</td><td>160</td><td>1480</td><td>2200</td><td>Intel  </td><td>Intel</td><td>NA</td><td>NA</td><td>NA</td></tr>\n",
              "\t<tr><td>12</td><td>AMD C-70                 </td><td>CPU</td><td>2012-09-01</td><td> 40</td><td>  9</td><td> 75</td><td>  NA</td><td>1000</td><td>Unknown</td><td>AMD  </td><td>NA</td><td>NA</td><td>NA</td></tr>\n",
              "\t<tr><td>13</td><td>Intel Core i5-8269U      </td><td>CPU</td><td>2018-04-05</td><td> 14</td><td> 28</td><td>123</td><td>  NA</td><td>2600</td><td>Intel  </td><td>Intel</td><td>NA</td><td>NA</td><td>NA</td></tr>\n",
              "\t<tr><td>14</td><td>AMD Phenom X4 9600 BE    </td><td>CPU</td><td>2007-12-19</td><td> 65</td><td> 95</td><td>285</td><td> 450</td><td>2300</td><td>Unknown</td><td>AMD  </td><td>NA</td><td>NA</td><td>NA</td></tr>\n",
              "\t<tr><td>15</td><td>Intel Pentium 3560Y      </td><td>CPU</td><td>2013-09-01</td><td> 22</td><td> 12</td><td>118</td><td>1400</td><td>1200</td><td>Intel  </td><td>Intel</td><td>NA</td><td>NA</td><td>NA</td></tr>\n",
              "\t<tr><td>16</td><td>AMD Turion X2 Ultra ZM-84</td><td>CPU</td><td>2008-09-01</td><td> 65</td><td> 35</td><td> NA</td><td>  NA</td><td>2300</td><td>Unknown</td><td>AMD  </td><td>NA</td><td>NA</td><td>NA</td></tr>\n",
              "\t<tr><td>17</td><td>Intel Pentium 4 506      </td><td>CPU</td><td>2005-06-01</td><td> 90</td><td> 84</td><td>109</td><td> 125</td><td>2660</td><td>Intel  </td><td>Intel</td><td>NA</td><td>NA</td><td>NA</td></tr>\n",
              "\t<tr><td>18</td><td>Intel Xeon E5-2430 v2    </td><td>CPU</td><td>2013-09-01</td><td> 22</td><td> 80</td><td>160</td><td>1400</td><td>2500</td><td>Intel  </td><td>Intel</td><td>NA</td><td>NA</td><td>NA</td></tr>\n",
              "\t<tr><td>19</td><td>AMD Athlon 64 X2 4800+   </td><td>CPU</td><td>2006-05-23</td><td> 90</td><td>110</td><td>199</td><td> 233</td><td>2400</td><td>Unknown</td><td>AMD  </td><td>NA</td><td>NA</td><td>NA</td></tr>\n",
              "\t<tr><td>20</td><td>Intel Core i5-3427U      </td><td>CPU</td><td>2012-06-01</td><td> 22</td><td> 17</td><td>118</td><td>  NA</td><td>1800</td><td>Intel  </td><td>Intel</td><td>NA</td><td>NA</td><td>NA</td></tr>\n",
              "\t<tr><td>21</td><td>AMD Opteron 148 HE       </td><td>CPU</td><td>2004-12-01</td><td> 90</td><td> 55</td><td> NA</td><td> 106</td><td>2200</td><td>Unknown</td><td>AMD  </td><td>NA</td><td>NA</td><td>NA</td></tr>\n",
              "\t<tr><td>22</td><td>AMD Athlon 1100          </td><td>CPU</td><td>2000-08-14</td><td>180</td><td> 60</td><td>120</td><td>  37</td><td>1100</td><td>Unknown</td><td>AMD  </td><td>NA</td><td>NA</td><td>NA</td></tr>\n",
              "\t<tr><td>23</td><td>Intel Core i7-975        </td><td>CPU</td><td>2009-06-02</td><td> 45</td><td>130</td><td>263</td><td> 731</td><td>3333</td><td>Intel  </td><td>Intel</td><td>NA</td><td>NA</td><td>NA</td></tr>\n",
              "\t<tr><td>24</td><td>AMD Athlon 64 3500+      </td><td>CPU</td><td>2001-01-01</td><td> 90</td><td> 67</td><td>115</td><td> 105</td><td>2200</td><td>Unknown</td><td>AMD  </td><td>NA</td><td>NA</td><td>NA</td></tr>\n",
              "\t<tr><td>25</td><td>Intel Pentium 4 HT 672   </td><td>CPU</td><td>2005-11-14</td><td> 90</td><td> 84</td><td>109</td><td> 169</td><td>3800</td><td>Intel  </td><td>Intel</td><td>NA</td><td>NA</td><td>NA</td></tr>\n",
              "\t<tr><td>26</td><td>Intel Pentium D 830      </td><td>CPU</td><td>2005-05-26</td><td> 90</td><td>130</td><td>206</td><td> 169</td><td>3000</td><td>Intel  </td><td>Intel</td><td>NA</td><td>NA</td><td>NA</td></tr>\n",
              "\t<tr><td>27</td><td>AMD EPYC 7371            </td><td>CPU</td><td>2018-11-16</td><td> 14</td><td>170</td><td>213</td><td>4800</td><td>3100</td><td>GF     </td><td>AMD  </td><td>NA</td><td>NA</td><td>NA</td></tr>\n",
              "\t<tr><td>28</td><td>Intel Pentium 4 HT 550   </td><td>CPU</td><td>2004-06-21</td><td> 90</td><td>115</td><td>109</td><td> 125</td><td>3400</td><td>Intel  </td><td>Intel</td><td>NA</td><td>NA</td><td>NA</td></tr>\n",
              "\t<tr><td>29</td><td>Intel Pentium III 1266S  </td><td>CPU</td><td>2001-07-01</td><td>130</td><td> 30</td><td> 80</td><td>  44</td><td>1266</td><td>Intel  </td><td>Intel</td><td>NA</td><td>NA</td><td>NA</td></tr>\n",
              "\t<tr><td>⋮</td><td>⋮</td><td>⋮</td><td>⋮</td><td>⋮</td><td>⋮</td><td>⋮</td><td>⋮</td><td>⋮</td><td>⋮</td><td>⋮</td><td>⋮</td><td>⋮</td><td>⋮</td></tr>\n",
              "\t<tr><td>4824</td><td>ATI Radeon HD 4670                    </td><td>GPU</td><td>2008-09-10</td><td> 55</td><td> 59</td><td>146</td><td>  514</td><td> 750</td><td>TSMC </td><td>ATI   </td><td>   NA</td><td>  480.00</td><td>     NA</td></tr>\n",
              "\t<tr><td>4825</td><td>ATI Radeon HD 3410                    </td><td>GPU</td><td>2009-05-07</td><td> 65</td><td> 20</td><td> 85</td><td>  180</td><td> 519</td><td>TSMC </td><td>ATI   </td><td>   NA</td><td>   41.52</td><td>     NA</td></tr>\n",
              "\t<tr><td>4826</td><td>ATI Radeon 9800 PRO                   </td><td>GPU</td><td>2003-03-01</td><td>150</td><td> 47</td><td>215</td><td>  117</td><td> 380</td><td>TSMC </td><td>ATI   </td><td>   NA</td><td>      NA</td><td>     NA</td></tr>\n",
              "\t<tr><td>4827</td><td>AMD Radeon HD 8570A                   </td><td>GPU</td><td>2013-03-01</td><td> 28</td><td> NA</td><td> 56</td><td>  690</td><td> 750</td><td>TSMC </td><td>AMD   </td><td>   NA</td><td>  528.00</td><td>  33.00</td></tr>\n",
              "\t<tr><td>4828</td><td>AMD Radeon R6 M435DX                  </td><td>GPU</td><td>2016-12-12</td><td> 28</td><td> NA</td><td> 56</td><td>  690</td><td> 955</td><td>TSMC </td><td>AMD   </td><td>   NA</td><td>  791.00</td><td>  49.44</td></tr>\n",
              "\t<tr><td>4829</td><td>AMD Radeon R5 220 OEM                 </td><td>GPU</td><td>2013-12-21</td><td> 40</td><td> 19</td><td> 59</td><td>  292</td><td> 650</td><td>TSMC </td><td>AMD   </td><td>   NA</td><td>  104.00</td><td>     NA</td></tr>\n",
              "\t<tr><td>4830</td><td>AMD Radeon RX 550X Mobile             </td><td>GPU</td><td>2018-04-11</td><td> 14</td><td> 50</td><td>103</td><td> 2200</td><td>1100</td><td>GF   </td><td>AMD   </td><td> 1505</td><td> 1505.00</td><td>  94.08</td></tr>\n",
              "\t<tr><td>4831</td><td>NVIDIA Quadro K100M                   </td><td>GPU</td><td>2014-08-22</td><td> 28</td><td> 35</td><td>118</td><td> 1270</td><td> 850</td><td>TSMC </td><td>NVIDIA</td><td>   NA</td><td>  326.40</td><td>  13.60</td></tr>\n",
              "\t<tr><td>4832</td><td>NVIDIA GeForce GTS 160M               </td><td>GPU</td><td>2009-03-03</td><td> 65</td><td> 60</td><td>240</td><td>  505</td><td> 600</td><td>TSMC </td><td>NVIDIA</td><td>   NA</td><td>  192.00</td><td>     NA</td></tr>\n",
              "\t<tr><td>4833</td><td>AMD Radeon R9 280X2                   </td><td>GPU</td><td>NaT       </td><td> 28</td><td>375</td><td>352</td><td> 4313</td><td> 950</td><td>TSMC </td><td>AMD   </td><td>   NA</td><td> 4096.00</td><td>1024.00</td></tr>\n",
              "\t<tr><td>4834</td><td>ATI Mobility Radeon 9200              </td><td>GPU</td><td>2003-03-01</td><td>150</td><td> NA</td><td> 81</td><td>   36</td><td> 200</td><td>UMC  </td><td>ATI   </td><td>   NA</td><td>      NA</td><td>     NA</td></tr>\n",
              "\t<tr><td>4835</td><td>NVIDIA Quadro4 380 XGL                </td><td>GPU</td><td>2002-11-12</td><td>150</td><td> NA</td><td> 65</td><td>   29</td><td> 275</td><td>TSMC </td><td>NVIDIA</td><td>   NA</td><td>      NA</td><td>     NA</td></tr>\n",
              "\t<tr><td>4836</td><td>AMD Radeon Instinct MI25              </td><td>GPU</td><td>2017-06-27</td><td> 14</td><td>300</td><td>495</td><td>12500</td><td>1400</td><td>GF   </td><td>AMD   </td><td>24580</td><td>12290.00</td><td> 768.00</td></tr>\n",
              "\t<tr><td>4837</td><td>NVIDIA GeForce GTX 650 Ti             </td><td>GPU</td><td>2012-10-09</td><td> 28</td><td>110</td><td>221</td><td> 2540</td><td> 928</td><td>TSMC </td><td>NVIDIA</td><td>   NA</td><td> 1425.00</td><td>  59.39</td></tr>\n",
              "\t<tr><td>4838</td><td>NVIDIA GeForce 6800 GS                </td><td>GPU</td><td>2005-12-08</td><td>130</td><td> NA</td><td>287</td><td>  222</td><td> 350</td><td>TSMC </td><td>NVIDIA</td><td>   NA</td><td>      NA</td><td>     NA</td></tr>\n",
              "\t<tr><td>4839</td><td>AMD Radeon R7 350 640SP               </td><td>GPU</td><td>2019-01-07</td><td> 28</td><td> 55</td><td>123</td><td> 1500</td><td> 925</td><td>TSMC </td><td>AMD   </td><td>   NA</td><td> 1184.00</td><td>  74.00</td></tr>\n",
              "\t<tr><td>4840</td><td>NVIDIA GeForce RTX 2060 Mobile Refresh</td><td>GPU</td><td>2019-01-29</td><td> 12</td><td> 65</td><td>445</td><td>10800</td><td>1005</td><td>TSMC </td><td>NVIDIA</td><td>11980</td><td> 5990.00</td><td> 187.20</td></tr>\n",
              "\t<tr><td>4841</td><td>NVIDIA GeForce 6800 Ultra DDL         </td><td>GPU</td><td>2004-04-14</td><td>130</td><td>100</td><td>287</td><td>  222</td><td> 400</td><td>TSMC </td><td>NVIDIA</td><td>   NA</td><td>      NA</td><td>     NA</td></tr>\n",
              "\t<tr><td>4842</td><td>Matrox Millennium G450 x4 MMS         </td><td>GPU</td><td>2002-06-19</td><td>180</td><td> NA</td><td> NA</td><td>   10</td><td> 125</td><td>UMC  </td><td>Other </td><td>   NA</td><td>      NA</td><td>     NA</td></tr>\n",
              "\t<tr><td>4843</td><td>ATI Mobility Radeon HD 4870           </td><td>GPU</td><td>2009-01-09</td><td> 55</td><td> NA</td><td>256</td><td>  956</td><td> 550</td><td>TSMC </td><td>ATI   </td><td>   NA</td><td>  880.00</td><td> 176.00</td></tr>\n",
              "\t<tr><td>4844</td><td>ATI FirePro V7800                     </td><td>GPU</td><td>2010-04-26</td><td> 40</td><td>150</td><td>334</td><td> 2154</td><td> 700</td><td>TSMC </td><td>ATI   </td><td>   NA</td><td> 2016.00</td><td> 403.20</td></tr>\n",
              "\t<tr><td>4845</td><td>NVIDIA Tegra 3 GPU                    </td><td>GPU</td><td>2011-11-09</td><td> 40</td><td> 20</td><td> 80</td><td>   10</td><td> 416</td><td>TSMC </td><td>NVIDIA</td><td>   NA</td><td>      NA</td><td>     NA</td></tr>\n",
              "\t<tr><td>4846</td><td>NVIDIA Playstation 3 GPU 28nm         </td><td>GPU</td><td>2013-06-03</td><td> 28</td><td> 21</td><td> 68</td><td>  302</td><td> 550</td><td>Sony </td><td>NVIDIA</td><td>   NA</td><td>      NA</td><td>     NA</td></tr>\n",
              "\t<tr><td>4847</td><td>XGI Volari V3                         </td><td>GPU</td><td>2003-09-15</td><td>130</td><td> NA</td><td> NA</td><td>   25</td><td> 200</td><td>UMC  </td><td>Other </td><td>   NA</td><td>      NA</td><td>     NA</td></tr>\n",
              "\t<tr><td>4848</td><td>NVIDIA GeForce FX Go5100              </td><td>GPU</td><td>2003-03-01</td><td>150</td><td> NA</td><td>124</td><td>   45</td><td> 200</td><td>TSMC </td><td>NVIDIA</td><td>   NA</td><td>      NA</td><td>     NA</td></tr>\n",
              "\t<tr><td>4849</td><td>NVIDIA Quadro 3000M                   </td><td>GPU</td><td>2011-02-22</td><td> 40</td><td> 75</td><td>332</td><td> 1950</td><td> 450</td><td>TSMC </td><td>NVIDIA</td><td>   NA</td><td>  432.00</td><td>  36.00</td></tr>\n",
              "\t<tr><td>4850</td><td>Intel GMA 950                         </td><td>GPU</td><td>2005-06-01</td><td> 90</td><td>  7</td><td> NA</td><td>   NA</td><td> 250</td><td>Intel</td><td>Intel </td><td>   NA</td><td>      NA</td><td>     NA</td></tr>\n",
              "\t<tr><td>4851</td><td>NVIDIA GeForce GT 320M                </td><td>GPU</td><td>2010-03-03</td><td> 40</td><td> 23</td><td>100</td><td>  486</td><td> 500</td><td>TSMC </td><td>NVIDIA</td><td>   NA</td><td>   52.80</td><td>     NA</td></tr>\n",
              "\t<tr><td>4852</td><td>NVIDIA GeForce FX 5200                </td><td>GPU</td><td>2003-03-06</td><td>150</td><td> NA</td><td> 65</td><td>   29</td><td> 250</td><td>TSMC </td><td>NVIDIA</td><td>   NA</td><td>      NA</td><td>     NA</td></tr>\n",
              "\t<tr><td>4853</td><td>NVIDIA GeForce 9300 SE                </td><td>GPU</td><td>2008-06-01</td><td> 65</td><td> NA</td><td> 86</td><td>  210</td><td> 540</td><td>TSMC </td><td>NVIDIA</td><td>   NA</td><td>   20.80</td><td>     NA</td></tr>\n",
              "</tbody>\n",
              "</table>\n"
            ],
            "text/markdown": "\nA data.frame: 4854 × 14\n\n| ID &lt;int&gt; | Product &lt;chr&gt; | Type &lt;chr&gt; | Release Date &lt;chr&gt; | Process Size (nm) &lt;dbl&gt; | TDP (W) &lt;dbl&gt; | Die Size (mm^2) &lt;dbl&gt; | Transistors (million) &lt;dbl&gt; | Freq (MHz) &lt;dbl&gt; | Foundry &lt;chr&gt; | Vendor &lt;chr&gt; | FP16 GFLOPS &lt;dbl&gt; | FP32 GFLOPS &lt;dbl&gt; | FP64 GFLOPD &lt;dbl&gt; |\n|---|---|---|---|---|---|---|---|---|---|---|---|---|---|\n|  0 | AMD Athlon 64 3500+       | CPU | 2007-02-20 |  65 |  45 |  77 |  122 | 2200 | Unknown | AMD   | NA | NA | NA |\n|  1 | AMD Athlon 200GE          | CPU | 2018-09-06 |  14 |  35 | 192 | 4800 | 3200 | Unknown | AMD   | NA | NA | NA |\n|  2 | Intel Core i5-1145G7      | CPU | 2020-09-02 |  10 |  28 |  NA |   NA | 2600 | Intel   | Intel | NA | NA | NA |\n|  3 | Intel Xeon E5-2603 v2     | CPU | 2013-09-01 |  22 |  80 | 160 | 1400 | 1800 | Intel   | Intel | NA | NA | NA |\n|  4 | AMD Phenom II X4 980 BE   | CPU | 2011-05-03 |  45 | 125 | 258 |  758 | 3700 | Unknown | AMD   | NA | NA | NA |\n|  5 | Intel Xeon E5-2470 v2     | CPU | 2013-09-01 |  22 |  95 | 160 | 1400 | 2400 | Intel   | Intel | NA | NA | NA |\n|  6 | AMD Phenom X4 9750 (125W) | CPU | 2008-03-27 |  65 | 125 | 285 |  450 | 2400 | Unknown | AMD   | NA | NA | NA |\n|  7 | Intel Pentium D 930       | CPU | 2006-01-16 |  65 | 130 | 140 |  376 | 3000 | Intel   | Intel | NA | NA | NA |\n|  8 | Intel Core i3-1125G4      | CPU | 2020-09-02 |  10 |  28 |  NA |   NA | 2000 | Intel   | Intel | NA | NA | NA |\n|  9 | AMD Athlon 64 X2 4200+    | CPU | 2006-05-23 |  90 |  89 | 156 |  154 | 2200 | Unknown | AMD   | NA | NA | NA |\n| 10 | AMD Sempron 2800+         | CPU | 2004-08-01 | 130 |  62 |  80 |   37 | 1992 | Unknown | AMD   | NA | NA | NA |\n| 11 | Intel Core i7-3632QM      | CPU | 2012-10-19 |  22 |  35 | 160 | 1480 | 2200 | Intel   | Intel | NA | NA | NA |\n| 12 | AMD C-70                  | CPU | 2012-09-01 |  40 |   9 |  75 |   NA | 1000 | Unknown | AMD   | NA | NA | NA |\n| 13 | Intel Core i5-8269U       | CPU | 2018-04-05 |  14 |  28 | 123 |   NA | 2600 | Intel   | Intel | NA | NA | NA |\n| 14 | AMD Phenom X4 9600 BE     | CPU | 2007-12-19 |  65 |  95 | 285 |  450 | 2300 | Unknown | AMD   | NA | NA | NA |\n| 15 | Intel Pentium 3560Y       | CPU | 2013-09-01 |  22 |  12 | 118 | 1400 | 1200 | Intel   | Intel | NA | NA | NA |\n| 16 | AMD Turion X2 Ultra ZM-84 | CPU | 2008-09-01 |  65 |  35 |  NA |   NA | 2300 | Unknown | AMD   | NA | NA | NA |\n| 17 | Intel Pentium 4 506       | CPU | 2005-06-01 |  90 |  84 | 109 |  125 | 2660 | Intel   | Intel | NA | NA | NA |\n| 18 | Intel Xeon E5-2430 v2     | CPU | 2013-09-01 |  22 |  80 | 160 | 1400 | 2500 | Intel   | Intel | NA | NA | NA |\n| 19 | AMD Athlon 64 X2 4800+    | CPU | 2006-05-23 |  90 | 110 | 199 |  233 | 2400 | Unknown | AMD   | NA | NA | NA |\n| 20 | Intel Core i5-3427U       | CPU | 2012-06-01 |  22 |  17 | 118 |   NA | 1800 | Intel   | Intel | NA | NA | NA |\n| 21 | AMD Opteron 148 HE        | CPU | 2004-12-01 |  90 |  55 |  NA |  106 | 2200 | Unknown | AMD   | NA | NA | NA |\n| 22 | AMD Athlon 1100           | CPU | 2000-08-14 | 180 |  60 | 120 |   37 | 1100 | Unknown | AMD   | NA | NA | NA |\n| 23 | Intel Core i7-975         | CPU | 2009-06-02 |  45 | 130 | 263 |  731 | 3333 | Intel   | Intel | NA | NA | NA |\n| 24 | AMD Athlon 64 3500+       | CPU | 2001-01-01 |  90 |  67 | 115 |  105 | 2200 | Unknown | AMD   | NA | NA | NA |\n| 25 | Intel Pentium 4 HT 672    | CPU | 2005-11-14 |  90 |  84 | 109 |  169 | 3800 | Intel   | Intel | NA | NA | NA |\n| 26 | Intel Pentium D 830       | CPU | 2005-05-26 |  90 | 130 | 206 |  169 | 3000 | Intel   | Intel | NA | NA | NA |\n| 27 | AMD EPYC 7371             | CPU | 2018-11-16 |  14 | 170 | 213 | 4800 | 3100 | GF      | AMD   | NA | NA | NA |\n| 28 | Intel Pentium 4 HT 550    | CPU | 2004-06-21 |  90 | 115 | 109 |  125 | 3400 | Intel   | Intel | NA | NA | NA |\n| 29 | Intel Pentium III 1266S   | CPU | 2001-07-01 | 130 |  30 |  80 |   44 | 1266 | Intel   | Intel | NA | NA | NA |\n| ⋮ | ⋮ | ⋮ | ⋮ | ⋮ | ⋮ | ⋮ | ⋮ | ⋮ | ⋮ | ⋮ | ⋮ | ⋮ | ⋮ |\n| 4824 | ATI Radeon HD 4670                     | GPU | 2008-09-10 |  55 |  59 | 146 |   514 |  750 | TSMC  | ATI    |    NA |   480.00 |      NA |\n| 4825 | ATI Radeon HD 3410                     | GPU | 2009-05-07 |  65 |  20 |  85 |   180 |  519 | TSMC  | ATI    |    NA |    41.52 |      NA |\n| 4826 | ATI Radeon 9800 PRO                    | GPU | 2003-03-01 | 150 |  47 | 215 |   117 |  380 | TSMC  | ATI    |    NA |       NA |      NA |\n| 4827 | AMD Radeon HD 8570A                    | GPU | 2013-03-01 |  28 |  NA |  56 |   690 |  750 | TSMC  | AMD    |    NA |   528.00 |   33.00 |\n| 4828 | AMD Radeon R6 M435DX                   | GPU | 2016-12-12 |  28 |  NA |  56 |   690 |  955 | TSMC  | AMD    |    NA |   791.00 |   49.44 |\n| 4829 | AMD Radeon R5 220 OEM                  | GPU | 2013-12-21 |  40 |  19 |  59 |   292 |  650 | TSMC  | AMD    |    NA |   104.00 |      NA |\n| 4830 | AMD Radeon RX 550X Mobile              | GPU | 2018-04-11 |  14 |  50 | 103 |  2200 | 1100 | GF    | AMD    |  1505 |  1505.00 |   94.08 |\n| 4831 | NVIDIA Quadro K100M                    | GPU | 2014-08-22 |  28 |  35 | 118 |  1270 |  850 | TSMC  | NVIDIA |    NA |   326.40 |   13.60 |\n| 4832 | NVIDIA GeForce GTS 160M                | GPU | 2009-03-03 |  65 |  60 | 240 |   505 |  600 | TSMC  | NVIDIA |    NA |   192.00 |      NA |\n| 4833 | AMD Radeon R9 280X2                    | GPU | NaT        |  28 | 375 | 352 |  4313 |  950 | TSMC  | AMD    |    NA |  4096.00 | 1024.00 |\n| 4834 | ATI Mobility Radeon 9200               | GPU | 2003-03-01 | 150 |  NA |  81 |    36 |  200 | UMC   | ATI    |    NA |       NA |      NA |\n| 4835 | NVIDIA Quadro4 380 XGL                 | GPU | 2002-11-12 | 150 |  NA |  65 |    29 |  275 | TSMC  | NVIDIA |    NA |       NA |      NA |\n| 4836 | AMD Radeon Instinct MI25               | GPU | 2017-06-27 |  14 | 300 | 495 | 12500 | 1400 | GF    | AMD    | 24580 | 12290.00 |  768.00 |\n| 4837 | NVIDIA GeForce GTX 650 Ti              | GPU | 2012-10-09 |  28 | 110 | 221 |  2540 |  928 | TSMC  | NVIDIA |    NA |  1425.00 |   59.39 |\n| 4838 | NVIDIA GeForce 6800 GS                 | GPU | 2005-12-08 | 130 |  NA | 287 |   222 |  350 | TSMC  | NVIDIA |    NA |       NA |      NA |\n| 4839 | AMD Radeon R7 350 640SP                | GPU | 2019-01-07 |  28 |  55 | 123 |  1500 |  925 | TSMC  | AMD    |    NA |  1184.00 |   74.00 |\n| 4840 | NVIDIA GeForce RTX 2060 Mobile Refresh | GPU | 2019-01-29 |  12 |  65 | 445 | 10800 | 1005 | TSMC  | NVIDIA | 11980 |  5990.00 |  187.20 |\n| 4841 | NVIDIA GeForce 6800 Ultra DDL          | GPU | 2004-04-14 | 130 | 100 | 287 |   222 |  400 | TSMC  | NVIDIA |    NA |       NA |      NA |\n| 4842 | Matrox Millennium G450 x4 MMS          | GPU | 2002-06-19 | 180 |  NA |  NA |    10 |  125 | UMC   | Other  |    NA |       NA |      NA |\n| 4843 | ATI Mobility Radeon HD 4870            | GPU | 2009-01-09 |  55 |  NA | 256 |   956 |  550 | TSMC  | ATI    |    NA |   880.00 |  176.00 |\n| 4844 | ATI FirePro V7800                      | GPU | 2010-04-26 |  40 | 150 | 334 |  2154 |  700 | TSMC  | ATI    |    NA |  2016.00 |  403.20 |\n| 4845 | NVIDIA Tegra 3 GPU                     | GPU | 2011-11-09 |  40 |  20 |  80 |    10 |  416 | TSMC  | NVIDIA |    NA |       NA |      NA |\n| 4846 | NVIDIA Playstation 3 GPU 28nm          | GPU | 2013-06-03 |  28 |  21 |  68 |   302 |  550 | Sony  | NVIDIA |    NA |       NA |      NA |\n| 4847 | XGI Volari V3                          | GPU | 2003-09-15 | 130 |  NA |  NA |    25 |  200 | UMC   | Other  |    NA |       NA |      NA |\n| 4848 | NVIDIA GeForce FX Go5100               | GPU | 2003-03-01 | 150 |  NA | 124 |    45 |  200 | TSMC  | NVIDIA |    NA |       NA |      NA |\n| 4849 | NVIDIA Quadro 3000M                    | GPU | 2011-02-22 |  40 |  75 | 332 |  1950 |  450 | TSMC  | NVIDIA |    NA |   432.00 |   36.00 |\n| 4850 | Intel GMA 950                          | GPU | 2005-06-01 |  90 |   7 |  NA |    NA |  250 | Intel | Intel  |    NA |       NA |      NA |\n| 4851 | NVIDIA GeForce GT 320M                 | GPU | 2010-03-03 |  40 |  23 | 100 |   486 |  500 | TSMC  | NVIDIA |    NA |    52.80 |      NA |\n| 4852 | NVIDIA GeForce FX 5200                 | GPU | 2003-03-06 | 150 |  NA |  65 |    29 |  250 | TSMC  | NVIDIA |    NA |       NA |      NA |\n| 4853 | NVIDIA GeForce 9300 SE                 | GPU | 2008-06-01 |  65 |  NA |  86 |   210 |  540 | TSMC  | NVIDIA |    NA |    20.80 |      NA |\n\n",
            "text/latex": "A data.frame: 4854 × 14\n\\begin{tabular}{llllllllllllll}\n ID & Product & Type & Release Date & Process Size (nm) & TDP (W) & Die Size (mm\\textasciicircum{}2) & Transistors (million) & Freq (MHz) & Foundry & Vendor & FP16 GFLOPS & FP32 GFLOPS & FP64 GFLOPD\\\\\n <int> & <chr> & <chr> & <chr> & <dbl> & <dbl> & <dbl> & <dbl> & <dbl> & <chr> & <chr> & <dbl> & <dbl> & <dbl>\\\\\n\\hline\n\t  0 & AMD Athlon 64 3500+       & CPU & 2007-02-20 &  65 &  45 &  77 &  122 & 2200 & Unknown & AMD   & NA & NA & NA\\\\\n\t  1 & AMD Athlon 200GE          & CPU & 2018-09-06 &  14 &  35 & 192 & 4800 & 3200 & Unknown & AMD   & NA & NA & NA\\\\\n\t  2 & Intel Core i5-1145G7      & CPU & 2020-09-02 &  10 &  28 &  NA &   NA & 2600 & Intel   & Intel & NA & NA & NA\\\\\n\t  3 & Intel Xeon E5-2603 v2     & CPU & 2013-09-01 &  22 &  80 & 160 & 1400 & 1800 & Intel   & Intel & NA & NA & NA\\\\\n\t  4 & AMD Phenom II X4 980 BE   & CPU & 2011-05-03 &  45 & 125 & 258 &  758 & 3700 & Unknown & AMD   & NA & NA & NA\\\\\n\t  5 & Intel Xeon E5-2470 v2     & CPU & 2013-09-01 &  22 &  95 & 160 & 1400 & 2400 & Intel   & Intel & NA & NA & NA\\\\\n\t  6 & AMD Phenom X4 9750 (125W) & CPU & 2008-03-27 &  65 & 125 & 285 &  450 & 2400 & Unknown & AMD   & NA & NA & NA\\\\\n\t  7 & Intel Pentium D 930       & CPU & 2006-01-16 &  65 & 130 & 140 &  376 & 3000 & Intel   & Intel & NA & NA & NA\\\\\n\t  8 & Intel Core i3-1125G4      & CPU & 2020-09-02 &  10 &  28 &  NA &   NA & 2000 & Intel   & Intel & NA & NA & NA\\\\\n\t  9 & AMD Athlon 64 X2 4200+    & CPU & 2006-05-23 &  90 &  89 & 156 &  154 & 2200 & Unknown & AMD   & NA & NA & NA\\\\\n\t 10 & AMD Sempron 2800+         & CPU & 2004-08-01 & 130 &  62 &  80 &   37 & 1992 & Unknown & AMD   & NA & NA & NA\\\\\n\t 11 & Intel Core i7-3632QM      & CPU & 2012-10-19 &  22 &  35 & 160 & 1480 & 2200 & Intel   & Intel & NA & NA & NA\\\\\n\t 12 & AMD C-70                  & CPU & 2012-09-01 &  40 &   9 &  75 &   NA & 1000 & Unknown & AMD   & NA & NA & NA\\\\\n\t 13 & Intel Core i5-8269U       & CPU & 2018-04-05 &  14 &  28 & 123 &   NA & 2600 & Intel   & Intel & NA & NA & NA\\\\\n\t 14 & AMD Phenom X4 9600 BE     & CPU & 2007-12-19 &  65 &  95 & 285 &  450 & 2300 & Unknown & AMD   & NA & NA & NA\\\\\n\t 15 & Intel Pentium 3560Y       & CPU & 2013-09-01 &  22 &  12 & 118 & 1400 & 1200 & Intel   & Intel & NA & NA & NA\\\\\n\t 16 & AMD Turion X2 Ultra ZM-84 & CPU & 2008-09-01 &  65 &  35 &  NA &   NA & 2300 & Unknown & AMD   & NA & NA & NA\\\\\n\t 17 & Intel Pentium 4 506       & CPU & 2005-06-01 &  90 &  84 & 109 &  125 & 2660 & Intel   & Intel & NA & NA & NA\\\\\n\t 18 & Intel Xeon E5-2430 v2     & CPU & 2013-09-01 &  22 &  80 & 160 & 1400 & 2500 & Intel   & Intel & NA & NA & NA\\\\\n\t 19 & AMD Athlon 64 X2 4800+    & CPU & 2006-05-23 &  90 & 110 & 199 &  233 & 2400 & Unknown & AMD   & NA & NA & NA\\\\\n\t 20 & Intel Core i5-3427U       & CPU & 2012-06-01 &  22 &  17 & 118 &   NA & 1800 & Intel   & Intel & NA & NA & NA\\\\\n\t 21 & AMD Opteron 148 HE        & CPU & 2004-12-01 &  90 &  55 &  NA &  106 & 2200 & Unknown & AMD   & NA & NA & NA\\\\\n\t 22 & AMD Athlon 1100           & CPU & 2000-08-14 & 180 &  60 & 120 &   37 & 1100 & Unknown & AMD   & NA & NA & NA\\\\\n\t 23 & Intel Core i7-975         & CPU & 2009-06-02 &  45 & 130 & 263 &  731 & 3333 & Intel   & Intel & NA & NA & NA\\\\\n\t 24 & AMD Athlon 64 3500+       & CPU & 2001-01-01 &  90 &  67 & 115 &  105 & 2200 & Unknown & AMD   & NA & NA & NA\\\\\n\t 25 & Intel Pentium 4 HT 672    & CPU & 2005-11-14 &  90 &  84 & 109 &  169 & 3800 & Intel   & Intel & NA & NA & NA\\\\\n\t 26 & Intel Pentium D 830       & CPU & 2005-05-26 &  90 & 130 & 206 &  169 & 3000 & Intel   & Intel & NA & NA & NA\\\\\n\t 27 & AMD EPYC 7371             & CPU & 2018-11-16 &  14 & 170 & 213 & 4800 & 3100 & GF      & AMD   & NA & NA & NA\\\\\n\t 28 & Intel Pentium 4 HT 550    & CPU & 2004-06-21 &  90 & 115 & 109 &  125 & 3400 & Intel   & Intel & NA & NA & NA\\\\\n\t 29 & Intel Pentium III 1266S   & CPU & 2001-07-01 & 130 &  30 &  80 &   44 & 1266 & Intel   & Intel & NA & NA & NA\\\\\n\t ⋮ & ⋮ & ⋮ & ⋮ & ⋮ & ⋮ & ⋮ & ⋮ & ⋮ & ⋮ & ⋮ & ⋮ & ⋮ & ⋮\\\\\n\t 4824 & ATI Radeon HD 4670                     & GPU & 2008-09-10 &  55 &  59 & 146 &   514 &  750 & TSMC  & ATI    &    NA &   480.00 &      NA\\\\\n\t 4825 & ATI Radeon HD 3410                     & GPU & 2009-05-07 &  65 &  20 &  85 &   180 &  519 & TSMC  & ATI    &    NA &    41.52 &      NA\\\\\n\t 4826 & ATI Radeon 9800 PRO                    & GPU & 2003-03-01 & 150 &  47 & 215 &   117 &  380 & TSMC  & ATI    &    NA &       NA &      NA\\\\\n\t 4827 & AMD Radeon HD 8570A                    & GPU & 2013-03-01 &  28 &  NA &  56 &   690 &  750 & TSMC  & AMD    &    NA &   528.00 &   33.00\\\\\n\t 4828 & AMD Radeon R6 M435DX                   & GPU & 2016-12-12 &  28 &  NA &  56 &   690 &  955 & TSMC  & AMD    &    NA &   791.00 &   49.44\\\\\n\t 4829 & AMD Radeon R5 220 OEM                  & GPU & 2013-12-21 &  40 &  19 &  59 &   292 &  650 & TSMC  & AMD    &    NA &   104.00 &      NA\\\\\n\t 4830 & AMD Radeon RX 550X Mobile              & GPU & 2018-04-11 &  14 &  50 & 103 &  2200 & 1100 & GF    & AMD    &  1505 &  1505.00 &   94.08\\\\\n\t 4831 & NVIDIA Quadro K100M                    & GPU & 2014-08-22 &  28 &  35 & 118 &  1270 &  850 & TSMC  & NVIDIA &    NA &   326.40 &   13.60\\\\\n\t 4832 & NVIDIA GeForce GTS 160M                & GPU & 2009-03-03 &  65 &  60 & 240 &   505 &  600 & TSMC  & NVIDIA &    NA &   192.00 &      NA\\\\\n\t 4833 & AMD Radeon R9 280X2                    & GPU & NaT        &  28 & 375 & 352 &  4313 &  950 & TSMC  & AMD    &    NA &  4096.00 & 1024.00\\\\\n\t 4834 & ATI Mobility Radeon 9200               & GPU & 2003-03-01 & 150 &  NA &  81 &    36 &  200 & UMC   & ATI    &    NA &       NA &      NA\\\\\n\t 4835 & NVIDIA Quadro4 380 XGL                 & GPU & 2002-11-12 & 150 &  NA &  65 &    29 &  275 & TSMC  & NVIDIA &    NA &       NA &      NA\\\\\n\t 4836 & AMD Radeon Instinct MI25               & GPU & 2017-06-27 &  14 & 300 & 495 & 12500 & 1400 & GF    & AMD    & 24580 & 12290.00 &  768.00\\\\\n\t 4837 & NVIDIA GeForce GTX 650 Ti              & GPU & 2012-10-09 &  28 & 110 & 221 &  2540 &  928 & TSMC  & NVIDIA &    NA &  1425.00 &   59.39\\\\\n\t 4838 & NVIDIA GeForce 6800 GS                 & GPU & 2005-12-08 & 130 &  NA & 287 &   222 &  350 & TSMC  & NVIDIA &    NA &       NA &      NA\\\\\n\t 4839 & AMD Radeon R7 350 640SP                & GPU & 2019-01-07 &  28 &  55 & 123 &  1500 &  925 & TSMC  & AMD    &    NA &  1184.00 &   74.00\\\\\n\t 4840 & NVIDIA GeForce RTX 2060 Mobile Refresh & GPU & 2019-01-29 &  12 &  65 & 445 & 10800 & 1005 & TSMC  & NVIDIA & 11980 &  5990.00 &  187.20\\\\\n\t 4841 & NVIDIA GeForce 6800 Ultra DDL          & GPU & 2004-04-14 & 130 & 100 & 287 &   222 &  400 & TSMC  & NVIDIA &    NA &       NA &      NA\\\\\n\t 4842 & Matrox Millennium G450 x4 MMS          & GPU & 2002-06-19 & 180 &  NA &  NA &    10 &  125 & UMC   & Other  &    NA &       NA &      NA\\\\\n\t 4843 & ATI Mobility Radeon HD 4870            & GPU & 2009-01-09 &  55 &  NA & 256 &   956 &  550 & TSMC  & ATI    &    NA &   880.00 &  176.00\\\\\n\t 4844 & ATI FirePro V7800                      & GPU & 2010-04-26 &  40 & 150 & 334 &  2154 &  700 & TSMC  & ATI    &    NA &  2016.00 &  403.20\\\\\n\t 4845 & NVIDIA Tegra 3 GPU                     & GPU & 2011-11-09 &  40 &  20 &  80 &    10 &  416 & TSMC  & NVIDIA &    NA &       NA &      NA\\\\\n\t 4846 & NVIDIA Playstation 3 GPU 28nm          & GPU & 2013-06-03 &  28 &  21 &  68 &   302 &  550 & Sony  & NVIDIA &    NA &       NA &      NA\\\\\n\t 4847 & XGI Volari V3                          & GPU & 2003-09-15 & 130 &  NA &  NA &    25 &  200 & UMC   & Other  &    NA &       NA &      NA\\\\\n\t 4848 & NVIDIA GeForce FX Go5100               & GPU & 2003-03-01 & 150 &  NA & 124 &    45 &  200 & TSMC  & NVIDIA &    NA &       NA &      NA\\\\\n\t 4849 & NVIDIA Quadro 3000M                    & GPU & 2011-02-22 &  40 &  75 & 332 &  1950 &  450 & TSMC  & NVIDIA &    NA &   432.00 &   36.00\\\\\n\t 4850 & Intel GMA 950                          & GPU & 2005-06-01 &  90 &   7 &  NA &    NA &  250 & Intel & Intel  &    NA &       NA &      NA\\\\\n\t 4851 & NVIDIA GeForce GT 320M                 & GPU & 2010-03-03 &  40 &  23 & 100 &   486 &  500 & TSMC  & NVIDIA &    NA &    52.80 &      NA\\\\\n\t 4852 & NVIDIA GeForce FX 5200                 & GPU & 2003-03-06 & 150 &  NA &  65 &    29 &  250 & TSMC  & NVIDIA &    NA &       NA &      NA\\\\\n\t 4853 & NVIDIA GeForce 9300 SE                 & GPU & 2008-06-01 &  65 &  NA &  86 &   210 &  540 & TSMC  & NVIDIA &    NA &    20.80 &      NA\\\\\n\\end{tabular}\n",
            "text/plain": [
              "     ID   Product                                Type Release Date\n",
              "1     0   AMD Athlon 64 3500+                    CPU  2007-02-20  \n",
              "2     1   AMD Athlon 200GE                       CPU  2018-09-06  \n",
              "3     2   Intel Core i5-1145G7                   CPU  2020-09-02  \n",
              "4     3   Intel Xeon E5-2603 v2                  CPU  2013-09-01  \n",
              "5     4   AMD Phenom II X4 980 BE                CPU  2011-05-03  \n",
              "6     5   Intel Xeon E5-2470 v2                  CPU  2013-09-01  \n",
              "7     6   AMD Phenom X4 9750 (125W)              CPU  2008-03-27  \n",
              "8     7   Intel Pentium D 930                    CPU  2006-01-16  \n",
              "9     8   Intel Core i3-1125G4                   CPU  2020-09-02  \n",
              "10    9   AMD Athlon 64 X2 4200+                 CPU  2006-05-23  \n",
              "11   10   AMD Sempron 2800+                      CPU  2004-08-01  \n",
              "12   11   Intel Core i7-3632QM                   CPU  2012-10-19  \n",
              "13   12   AMD C-70                               CPU  2012-09-01  \n",
              "14   13   Intel Core i5-8269U                    CPU  2018-04-05  \n",
              "15   14   AMD Phenom X4 9600 BE                  CPU  2007-12-19  \n",
              "16   15   Intel Pentium 3560Y                    CPU  2013-09-01  \n",
              "17   16   AMD Turion X2 Ultra ZM-84              CPU  2008-09-01  \n",
              "18   17   Intel Pentium 4 506                    CPU  2005-06-01  \n",
              "19   18   Intel Xeon E5-2430 v2                  CPU  2013-09-01  \n",
              "20   19   AMD Athlon 64 X2 4800+                 CPU  2006-05-23  \n",
              "21   20   Intel Core i5-3427U                    CPU  2012-06-01  \n",
              "22   21   AMD Opteron 148 HE                     CPU  2004-12-01  \n",
              "23   22   AMD Athlon 1100                        CPU  2000-08-14  \n",
              "24   23   Intel Core i7-975                      CPU  2009-06-02  \n",
              "25   24   AMD Athlon 64 3500+                    CPU  2001-01-01  \n",
              "26   25   Intel Pentium 4 HT 672                 CPU  2005-11-14  \n",
              "27   26   Intel Pentium D 830                    CPU  2005-05-26  \n",
              "28   27   AMD EPYC 7371                          CPU  2018-11-16  \n",
              "29   28   Intel Pentium 4 HT 550                 CPU  2004-06-21  \n",
              "30   29   Intel Pentium III 1266S                CPU  2001-07-01  \n",
              "⋮    ⋮    ⋮                                      ⋮    ⋮           \n",
              "4825 4824 ATI Radeon HD 4670                     GPU  2008-09-10  \n",
              "4826 4825 ATI Radeon HD 3410                     GPU  2009-05-07  \n",
              "4827 4826 ATI Radeon 9800 PRO                    GPU  2003-03-01  \n",
              "4828 4827 AMD Radeon HD 8570A                    GPU  2013-03-01  \n",
              "4829 4828 AMD Radeon R6 M435DX                   GPU  2016-12-12  \n",
              "4830 4829 AMD Radeon R5 220 OEM                  GPU  2013-12-21  \n",
              "4831 4830 AMD Radeon RX 550X Mobile              GPU  2018-04-11  \n",
              "4832 4831 NVIDIA Quadro K100M                    GPU  2014-08-22  \n",
              "4833 4832 NVIDIA GeForce GTS 160M                GPU  2009-03-03  \n",
              "4834 4833 AMD Radeon R9 280X2                    GPU  NaT         \n",
              "4835 4834 ATI Mobility Radeon 9200               GPU  2003-03-01  \n",
              "4836 4835 NVIDIA Quadro4 380 XGL                 GPU  2002-11-12  \n",
              "4837 4836 AMD Radeon Instinct MI25               GPU  2017-06-27  \n",
              "4838 4837 NVIDIA GeForce GTX 650 Ti              GPU  2012-10-09  \n",
              "4839 4838 NVIDIA GeForce 6800 GS                 GPU  2005-12-08  \n",
              "4840 4839 AMD Radeon R7 350 640SP                GPU  2019-01-07  \n",
              "4841 4840 NVIDIA GeForce RTX 2060 Mobile Refresh GPU  2019-01-29  \n",
              "4842 4841 NVIDIA GeForce 6800 Ultra DDL          GPU  2004-04-14  \n",
              "4843 4842 Matrox Millennium G450 x4 MMS          GPU  2002-06-19  \n",
              "4844 4843 ATI Mobility Radeon HD 4870            GPU  2009-01-09  \n",
              "4845 4844 ATI FirePro V7800                      GPU  2010-04-26  \n",
              "4846 4845 NVIDIA Tegra 3 GPU                     GPU  2011-11-09  \n",
              "4847 4846 NVIDIA Playstation 3 GPU 28nm          GPU  2013-06-03  \n",
              "4848 4847 XGI Volari V3                          GPU  2003-09-15  \n",
              "4849 4848 NVIDIA GeForce FX Go5100               GPU  2003-03-01  \n",
              "4850 4849 NVIDIA Quadro 3000M                    GPU  2011-02-22  \n",
              "4851 4850 Intel GMA 950                          GPU  2005-06-01  \n",
              "4852 4851 NVIDIA GeForce GT 320M                 GPU  2010-03-03  \n",
              "4853 4852 NVIDIA GeForce FX 5200                 GPU  2003-03-06  \n",
              "4854 4853 NVIDIA GeForce 9300 SE                 GPU  2008-06-01  \n",
              "     Process Size (nm) TDP (W) Die Size (mm^2) Transistors (million) Freq (MHz)\n",
              "1     65                45      77              122                  2200      \n",
              "2     14                35     192             4800                  3200      \n",
              "3     10                28      NA               NA                  2600      \n",
              "4     22                80     160             1400                  1800      \n",
              "5     45               125     258              758                  3700      \n",
              "6     22                95     160             1400                  2400      \n",
              "7     65               125     285              450                  2400      \n",
              "8     65               130     140              376                  3000      \n",
              "9     10                28      NA               NA                  2000      \n",
              "10    90                89     156              154                  2200      \n",
              "11   130                62      80               37                  1992      \n",
              "12    22                35     160             1480                  2200      \n",
              "13    40                 9      75               NA                  1000      \n",
              "14    14                28     123               NA                  2600      \n",
              "15    65                95     285              450                  2300      \n",
              "16    22                12     118             1400                  1200      \n",
              "17    65                35      NA               NA                  2300      \n",
              "18    90                84     109              125                  2660      \n",
              "19    22                80     160             1400                  2500      \n",
              "20    90               110     199              233                  2400      \n",
              "21    22                17     118               NA                  1800      \n",
              "22    90                55      NA              106                  2200      \n",
              "23   180                60     120               37                  1100      \n",
              "24    45               130     263              731                  3333      \n",
              "25    90                67     115              105                  2200      \n",
              "26    90                84     109              169                  3800      \n",
              "27    90               130     206              169                  3000      \n",
              "28    14               170     213             4800                  3100      \n",
              "29    90               115     109              125                  3400      \n",
              "30   130                30      80               44                  1266      \n",
              "⋮    ⋮                 ⋮       ⋮               ⋮                     ⋮         \n",
              "4825  55                59     146               514                  750      \n",
              "4826  65                20      85               180                  519      \n",
              "4827 150                47     215               117                  380      \n",
              "4828  28                NA      56               690                  750      \n",
              "4829  28                NA      56               690                  955      \n",
              "4830  40                19      59               292                  650      \n",
              "4831  14                50     103              2200                 1100      \n",
              "4832  28                35     118              1270                  850      \n",
              "4833  65                60     240               505                  600      \n",
              "4834  28               375     352              4313                  950      \n",
              "4835 150                NA      81                36                  200      \n",
              "4836 150                NA      65                29                  275      \n",
              "4837  14               300     495             12500                 1400      \n",
              "4838  28               110     221              2540                  928      \n",
              "4839 130                NA     287               222                  350      \n",
              "4840  28                55     123              1500                  925      \n",
              "4841  12                65     445             10800                 1005      \n",
              "4842 130               100     287               222                  400      \n",
              "4843 180                NA      NA                10                  125      \n",
              "4844  55                NA     256               956                  550      \n",
              "4845  40               150     334              2154                  700      \n",
              "4846  40                20      80                10                  416      \n",
              "4847  28                21      68               302                  550      \n",
              "4848 130                NA      NA                25                  200      \n",
              "4849 150                NA     124                45                  200      \n",
              "4850  40                75     332              1950                  450      \n",
              "4851  90                 7      NA                NA                  250      \n",
              "4852  40                23     100               486                  500      \n",
              "4853 150                NA      65                29                  250      \n",
              "4854  65                NA      86               210                  540      \n",
              "     Foundry Vendor FP16 GFLOPS FP32 GFLOPS FP64 GFLOPD\n",
              "1    Unknown AMD    NA          NA          NA         \n",
              "2    Unknown AMD    NA          NA          NA         \n",
              "3    Intel   Intel  NA          NA          NA         \n",
              "4    Intel   Intel  NA          NA          NA         \n",
              "5    Unknown AMD    NA          NA          NA         \n",
              "6    Intel   Intel  NA          NA          NA         \n",
              "7    Unknown AMD    NA          NA          NA         \n",
              "8    Intel   Intel  NA          NA          NA         \n",
              "9    Intel   Intel  NA          NA          NA         \n",
              "10   Unknown AMD    NA          NA          NA         \n",
              "11   Unknown AMD    NA          NA          NA         \n",
              "12   Intel   Intel  NA          NA          NA         \n",
              "13   Unknown AMD    NA          NA          NA         \n",
              "14   Intel   Intel  NA          NA          NA         \n",
              "15   Unknown AMD    NA          NA          NA         \n",
              "16   Intel   Intel  NA          NA          NA         \n",
              "17   Unknown AMD    NA          NA          NA         \n",
              "18   Intel   Intel  NA          NA          NA         \n",
              "19   Intel   Intel  NA          NA          NA         \n",
              "20   Unknown AMD    NA          NA          NA         \n",
              "21   Intel   Intel  NA          NA          NA         \n",
              "22   Unknown AMD    NA          NA          NA         \n",
              "23   Unknown AMD    NA          NA          NA         \n",
              "24   Intel   Intel  NA          NA          NA         \n",
              "25   Unknown AMD    NA          NA          NA         \n",
              "26   Intel   Intel  NA          NA          NA         \n",
              "27   Intel   Intel  NA          NA          NA         \n",
              "28   GF      AMD    NA          NA          NA         \n",
              "29   Intel   Intel  NA          NA          NA         \n",
              "30   Intel   Intel  NA          NA          NA         \n",
              "⋮    ⋮       ⋮      ⋮           ⋮           ⋮          \n",
              "4825 TSMC    ATI       NA         480.00         NA    \n",
              "4826 TSMC    ATI       NA          41.52         NA    \n",
              "4827 TSMC    ATI       NA             NA         NA    \n",
              "4828 TSMC    AMD       NA         528.00      33.00    \n",
              "4829 TSMC    AMD       NA         791.00      49.44    \n",
              "4830 TSMC    AMD       NA         104.00         NA    \n",
              "4831 GF      AMD     1505        1505.00      94.08    \n",
              "4832 TSMC    NVIDIA    NA         326.40      13.60    \n",
              "4833 TSMC    NVIDIA    NA         192.00         NA    \n",
              "4834 TSMC    AMD       NA        4096.00    1024.00    \n",
              "4835 UMC     ATI       NA             NA         NA    \n",
              "4836 TSMC    NVIDIA    NA             NA         NA    \n",
              "4837 GF      AMD    24580       12290.00     768.00    \n",
              "4838 TSMC    NVIDIA    NA        1425.00      59.39    \n",
              "4839 TSMC    NVIDIA    NA             NA         NA    \n",
              "4840 TSMC    AMD       NA        1184.00      74.00    \n",
              "4841 TSMC    NVIDIA 11980        5990.00     187.20    \n",
              "4842 TSMC    NVIDIA    NA             NA         NA    \n",
              "4843 UMC     Other     NA             NA         NA    \n",
              "4844 TSMC    ATI       NA         880.00     176.00    \n",
              "4845 TSMC    ATI       NA        2016.00     403.20    \n",
              "4846 TSMC    NVIDIA    NA             NA         NA    \n",
              "4847 Sony    NVIDIA    NA             NA         NA    \n",
              "4848 UMC     Other     NA             NA         NA    \n",
              "4849 TSMC    NVIDIA    NA             NA         NA    \n",
              "4850 TSMC    NVIDIA    NA         432.00      36.00    \n",
              "4851 Intel   Intel     NA             NA         NA    \n",
              "4852 TSMC    NVIDIA    NA          52.80         NA    \n",
              "4853 TSMC    NVIDIA    NA             NA         NA    \n",
              "4854 TSMC    NVIDIA    NA          20.80         NA    "
            ]
          },
          "metadata": {}
        }
      ]
    },
    {
      "cell_type": "code",
      "source": [],
      "metadata": {
        "id": "iCplGxvCF45D"
      },
      "execution_count": null,
      "outputs": []
    }
  ]
}