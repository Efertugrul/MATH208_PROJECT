{
  "nbformat": 4,
  "nbformat_minor": 0,
  "metadata": {
    "colab": {
      "provenance": [],
      "authorship_tag": "ABX9TyMaNUB0AdRg6dyr7DP41n6l",
      "include_colab_link": true
    },
    "kernelspec": {
      "name": "ir",
      "display_name": "R"
    },
    "language_info": {
      "name": "R"
    },
    "gpuClass": "standard"
  },
  "cells": [
    {
      "cell_type": "markdown",
      "metadata": {
        "id": "view-in-github",
        "colab_type": "text"
      },
      "source": [
        "<a href=\"https://colab.research.google.com/github/TheMathAI/MATH208_PROJECT/blob/main/MATH_208_Project.ipynb\" target=\"_parent\"><img src=\"https://colab.research.google.com/assets/colab-badge.svg\" alt=\"Open In Colab\"/></a>"
      ]
    },
    {
      "cell_type": "code",
      "source": [
        "# library\n",
        "library(tidyverse)"
      ],
      "metadata": {
        "colab": {
          "base_uri": "https://localhost:8080/"
        },
        "id": "cBsJvH-J_26t",
        "outputId": "6628b332-d39b-4670-ff9c-04a78fee3c70"
      },
      "execution_count": 11,
      "outputs": [
        {
          "output_type": "stream",
          "name": "stderr",
          "text": [
            "Warning message in system(\"timedatectl\", intern = TRUE):\n",
            "“running command 'timedatectl' had status 1”\n",
            "── \u001b[1mAttaching packages\u001b[22m ─────────────────────────────────────── tidyverse 1.3.1 ──\n",
            "\n",
            "\u001b[32m✔\u001b[39m \u001b[34mggplot2\u001b[39m 3.4.0      \u001b[32m✔\u001b[39m \u001b[34mpurrr  \u001b[39m 0.3.5 \n",
            "\u001b[32m✔\u001b[39m \u001b[34mtibble \u001b[39m 3.1.8      \u001b[32m✔\u001b[39m \u001b[34mdplyr  \u001b[39m 1.0.10\n",
            "\u001b[32m✔\u001b[39m \u001b[34mtidyr  \u001b[39m 1.2.1      \u001b[32m✔\u001b[39m \u001b[34mstringr\u001b[39m 1.4.1 \n",
            "\u001b[32m✔\u001b[39m \u001b[34mreadr  \u001b[39m 2.1.3      \u001b[32m✔\u001b[39m \u001b[34mforcats\u001b[39m 0.5.2 \n",
            "\n",
            "── \u001b[1mConflicts\u001b[22m ────────────────────────────────────────── tidyverse_conflicts() ──\n",
            "\u001b[31m✖\u001b[39m \u001b[34mdplyr\u001b[39m::\u001b[32mfilter()\u001b[39m masks \u001b[34mstats\u001b[39m::filter()\n",
            "\u001b[31m✖\u001b[39m \u001b[34mdplyr\u001b[39m::\u001b[32mlag()\u001b[39m    masks \u001b[34mstats\u001b[39m::lag()\n",
            "\n"
          ]
        }
      ]
    },
    {
      "cell_type": "code",
      "execution_count": 66,
      "metadata": {
        "colab": {
          "base_uri": "https://localhost:8080/",
          "height": 34
        },
        "id": "_GiPMqeK5tgy",
        "outputId": "f39c8b38-ec8e-4d76-e28d-dba1ff9eec88"
      },
      "outputs": [
        {
          "output_type": "display_data",
          "data": {
            "text/html": [
              "<style>\n",
              ".list-inline {list-style: none; margin:0; padding: 0}\n",
              ".list-inline>li {display: inline-block}\n",
              ".list-inline>li:not(:last-child)::after {content: \"\\00b7\"; padding: 0 .5ex}\n",
              "</style>\n",
              "<ol class=list-inline><li>'ID'</li><li>'Product'</li><li>'Type'</li><li>'Release.Date'</li><li>'Process.Size..nm.'</li><li>'TDP..W.'</li><li>'Die.Size..mm.2.'</li><li>'Transistors..million.'</li><li>'Freq..MHz.'</li><li>'Foundry'</li><li>'Vendor'</li><li>'FP16.GFLOPS'</li><li>'FP32.GFLOPS'</li><li>'FP64.GFLOPS'</li></ol>\n"
            ],
            "text/markdown": "1. 'ID'\n2. 'Product'\n3. 'Type'\n4. 'Release.Date'\n5. 'Process.Size..nm.'\n6. 'TDP..W.'\n7. 'Die.Size..mm.2.'\n8. 'Transistors..million.'\n9. 'Freq..MHz.'\n10. 'Foundry'\n11. 'Vendor'\n12. 'FP16.GFLOPS'\n13. 'FP32.GFLOPS'\n14. 'FP64.GFLOPS'\n\n\n",
            "text/latex": "\\begin{enumerate*}\n\\item 'ID'\n\\item 'Product'\n\\item 'Type'\n\\item 'Release.Date'\n\\item 'Process.Size..nm.'\n\\item 'TDP..W.'\n\\item 'Die.Size..mm.2.'\n\\item 'Transistors..million.'\n\\item 'Freq..MHz.'\n\\item 'Foundry'\n\\item 'Vendor'\n\\item 'FP16.GFLOPS'\n\\item 'FP32.GFLOPS'\n\\item 'FP64.GFLOPS'\n\\end{enumerate*}\n",
            "text/plain": [
              " [1] \"ID\"                    \"Product\"               \"Type\"                 \n",
              " [4] \"Release.Date\"          \"Process.Size..nm.\"     \"TDP..W.\"              \n",
              " [7] \"Die.Size..mm.2.\"       \"Transistors..million.\" \"Freq..MHz.\"           \n",
              "[10] \"Foundry\"               \"Vendor\"                \"FP16.GFLOPS\"          \n",
              "[13] \"FP32.GFLOPS\"           \"FP64.GFLOPS\"          "
            ]
          },
          "metadata": {}
        }
      ],
      "source": [
        "# taking data from github to a dataframe\n",
        "cpu_gpu_data <- read.csv(\"https://raw.githubusercontent.com/TheMathAI/MATH208_PROJECT/main/chip_dataset.csv\")\n",
        "\n",
        "names(cpu_gpu_data)"
      ]
    },
    {
      "cell_type": "code",
      "source": [
        "# replacing columns names to get initial columns names\n",
        "colnames(cpu_gpu_data) <- c('ID', 'Product', 'Type', 'Release Date', 'Process Size (nm)', 'TDP (W)', 'Die Size (mm^2)', 'Transistors (million)', 'Freq (MHz)', 'Foundry', 'Vendor', 'FP16 GFLOPS', 'FP32 GFLOPS', 'FP64 GFLOPD')\n",
        "names(cpu_gpu_data)"
      ],
      "metadata": {
        "colab": {
          "base_uri": "https://localhost:8080/",
          "height": 34
        },
        "id": "aoz8b0QTC02T",
        "outputId": "8a862043-7afb-4b52-ae38-713d541d7789"
      },
      "execution_count": 71,
      "outputs": [
        {
          "output_type": "display_data",
          "data": {
            "text/html": [
              "<style>\n",
              ".list-inline {list-style: none; margin:0; padding: 0}\n",
              ".list-inline>li {display: inline-block}\n",
              ".list-inline>li:not(:last-child)::after {content: \"\\00b7\"; padding: 0 .5ex}\n",
              "</style>\n",
              "<ol class=list-inline><li>'ID'</li><li>'Product'</li><li>'Type'</li><li>'Release Date'</li><li>'Process Size (nm)'</li><li>'TDP (W)'</li><li>'Die Size (mm^2)'</li><li>'Transistors (million)'</li><li>'Freq (MHz)'</li><li>'Foundry'</li><li>'Vendor'</li><li>'FP16 GFLOPS'</li><li>'FP32 GFLOPS'</li><li>'FP64 GFLOPD'</li></ol>\n"
            ],
            "text/markdown": "1. 'ID'\n2. 'Product'\n3. 'Type'\n4. 'Release Date'\n5. 'Process Size (nm)'\n6. 'TDP (W)'\n7. 'Die Size (mm^2)'\n8. 'Transistors (million)'\n9. 'Freq (MHz)'\n10. 'Foundry'\n11. 'Vendor'\n12. 'FP16 GFLOPS'\n13. 'FP32 GFLOPS'\n14. 'FP64 GFLOPD'\n\n\n",
            "text/latex": "\\begin{enumerate*}\n\\item 'ID'\n\\item 'Product'\n\\item 'Type'\n\\item 'Release Date'\n\\item 'Process Size (nm)'\n\\item 'TDP (W)'\n\\item 'Die Size (mm\\textasciicircum{}2)'\n\\item 'Transistors (million)'\n\\item 'Freq (MHz)'\n\\item 'Foundry'\n\\item 'Vendor'\n\\item 'FP16 GFLOPS'\n\\item 'FP32 GFLOPS'\n\\item 'FP64 GFLOPD'\n\\end{enumerate*}\n",
            "text/plain": [
              " [1] \"ID\"                    \"Product\"               \"Type\"                 \n",
              " [4] \"Release Date\"          \"Process Size (nm)\"     \"TDP (W)\"              \n",
              " [7] \"Die Size (mm^2)\"       \"Transistors (million)\" \"Freq (MHz)\"           \n",
              "[10] \"Foundry\"               \"Vendor\"                \"FP16 GFLOPS\"          \n",
              "[13] \"FP32 GFLOPS\"           \"FP64 GFLOPD\"          "
            ]
          },
          "metadata": {}
        }
      ]
    },
    {
      "cell_type": "code",
      "source": [
        "head(cpu_gpu_data)"
      ],
      "metadata": {
        "colab": {
          "base_uri": "https://localhost:8080/",
          "height": 286
        },
        "id": "gVnfrdZq_hCC",
        "outputId": "890b7b5a-c493-4716-9766-ea7ea12822b8"
      },
      "execution_count": 94,
      "outputs": [
        {
          "output_type": "display_data",
          "data": {
            "text/html": [
              "<table class=\"dataframe\">\n",
              "<caption>A data.frame: 6 × 14</caption>\n",
              "<thead>\n",
              "\t<tr><th></th><th scope=col>ID</th><th scope=col>Product</th><th scope=col>Type</th><th scope=col>Release Date</th><th scope=col>Process Size (nm)</th><th scope=col>TDP (W)</th><th scope=col>Die Size (mm^2)</th><th scope=col>Transistors (million)</th><th scope=col>Freq (MHz)</th><th scope=col>Foundry</th><th scope=col>Vendor</th><th scope=col>FP16 GFLOPS</th><th scope=col>FP32 GFLOPS</th><th scope=col>FP64 GFLOPD</th></tr>\n",
              "\t<tr><th></th><th scope=col>&lt;int&gt;</th><th scope=col>&lt;chr&gt;</th><th scope=col>&lt;chr&gt;</th><th scope=col>&lt;chr&gt;</th><th scope=col>&lt;dbl&gt;</th><th scope=col>&lt;dbl&gt;</th><th scope=col>&lt;dbl&gt;</th><th scope=col>&lt;dbl&gt;</th><th scope=col>&lt;dbl&gt;</th><th scope=col>&lt;chr&gt;</th><th scope=col>&lt;chr&gt;</th><th scope=col>&lt;dbl&gt;</th><th scope=col>&lt;dbl&gt;</th><th scope=col>&lt;dbl&gt;</th></tr>\n",
              "</thead>\n",
              "<tbody>\n",
              "\t<tr><th scope=row>1</th><td>0</td><td>AMD Athlon 64 3500+    </td><td>CPU</td><td>2007-02-20</td><td>65</td><td> 45</td><td> 77</td><td> 122</td><td>2200</td><td>Unknown</td><td>AMD  </td><td>NA</td><td>NA</td><td>NA</td></tr>\n",
              "\t<tr><th scope=row>2</th><td>1</td><td>AMD Athlon 200GE       </td><td>CPU</td><td>2018-09-06</td><td>14</td><td> 35</td><td>192</td><td>4800</td><td>3200</td><td>Unknown</td><td>AMD  </td><td>NA</td><td>NA</td><td>NA</td></tr>\n",
              "\t<tr><th scope=row>3</th><td>2</td><td>Intel Core i5-1145G7   </td><td>CPU</td><td>2020-09-02</td><td>10</td><td> 28</td><td> NA</td><td>  NA</td><td>2600</td><td>Intel  </td><td>Intel</td><td>NA</td><td>NA</td><td>NA</td></tr>\n",
              "\t<tr><th scope=row>4</th><td>3</td><td>Intel Xeon E5-2603 v2  </td><td>CPU</td><td>2013-09-01</td><td>22</td><td> 80</td><td>160</td><td>1400</td><td>1800</td><td>Intel  </td><td>Intel</td><td>NA</td><td>NA</td><td>NA</td></tr>\n",
              "\t<tr><th scope=row>5</th><td>4</td><td>AMD Phenom II X4 980 BE</td><td>CPU</td><td>2011-05-03</td><td>45</td><td>125</td><td>258</td><td> 758</td><td>3700</td><td>Unknown</td><td>AMD  </td><td>NA</td><td>NA</td><td>NA</td></tr>\n",
              "\t<tr><th scope=row>6</th><td>5</td><td>Intel Xeon E5-2470 v2  </td><td>CPU</td><td>2013-09-01</td><td>22</td><td> 95</td><td>160</td><td>1400</td><td>2400</td><td>Intel  </td><td>Intel</td><td>NA</td><td>NA</td><td>NA</td></tr>\n",
              "</tbody>\n",
              "</table>\n"
            ],
            "text/markdown": "\nA data.frame: 6 × 14\n\n| <!--/--> | ID &lt;int&gt; | Product &lt;chr&gt; | Type &lt;chr&gt; | Release Date &lt;chr&gt; | Process Size (nm) &lt;dbl&gt; | TDP (W) &lt;dbl&gt; | Die Size (mm^2) &lt;dbl&gt; | Transistors (million) &lt;dbl&gt; | Freq (MHz) &lt;dbl&gt; | Foundry &lt;chr&gt; | Vendor &lt;chr&gt; | FP16 GFLOPS &lt;dbl&gt; | FP32 GFLOPS &lt;dbl&gt; | FP64 GFLOPD &lt;dbl&gt; |\n|---|---|---|---|---|---|---|---|---|---|---|---|---|---|---|\n| 1 | 0 | AMD Athlon 64 3500+     | CPU | 2007-02-20 | 65 |  45 |  77 |  122 | 2200 | Unknown | AMD   | NA | NA | NA |\n| 2 | 1 | AMD Athlon 200GE        | CPU | 2018-09-06 | 14 |  35 | 192 | 4800 | 3200 | Unknown | AMD   | NA | NA | NA |\n| 3 | 2 | Intel Core i5-1145G7    | CPU | 2020-09-02 | 10 |  28 |  NA |   NA | 2600 | Intel   | Intel | NA | NA | NA |\n| 4 | 3 | Intel Xeon E5-2603 v2   | CPU | 2013-09-01 | 22 |  80 | 160 | 1400 | 1800 | Intel   | Intel | NA | NA | NA |\n| 5 | 4 | AMD Phenom II X4 980 BE | CPU | 2011-05-03 | 45 | 125 | 258 |  758 | 3700 | Unknown | AMD   | NA | NA | NA |\n| 6 | 5 | Intel Xeon E5-2470 v2   | CPU | 2013-09-01 | 22 |  95 | 160 | 1400 | 2400 | Intel   | Intel | NA | NA | NA |\n\n",
            "text/latex": "A data.frame: 6 × 14\n\\begin{tabular}{r|llllllllllllll}\n  & ID & Product & Type & Release Date & Process Size (nm) & TDP (W) & Die Size (mm\\textasciicircum{}2) & Transistors (million) & Freq (MHz) & Foundry & Vendor & FP16 GFLOPS & FP32 GFLOPS & FP64 GFLOPD\\\\\n  & <int> & <chr> & <chr> & <chr> & <dbl> & <dbl> & <dbl> & <dbl> & <dbl> & <chr> & <chr> & <dbl> & <dbl> & <dbl>\\\\\n\\hline\n\t1 & 0 & AMD Athlon 64 3500+     & CPU & 2007-02-20 & 65 &  45 &  77 &  122 & 2200 & Unknown & AMD   & NA & NA & NA\\\\\n\t2 & 1 & AMD Athlon 200GE        & CPU & 2018-09-06 & 14 &  35 & 192 & 4800 & 3200 & Unknown & AMD   & NA & NA & NA\\\\\n\t3 & 2 & Intel Core i5-1145G7    & CPU & 2020-09-02 & 10 &  28 &  NA &   NA & 2600 & Intel   & Intel & NA & NA & NA\\\\\n\t4 & 3 & Intel Xeon E5-2603 v2   & CPU & 2013-09-01 & 22 &  80 & 160 & 1400 & 1800 & Intel   & Intel & NA & NA & NA\\\\\n\t5 & 4 & AMD Phenom II X4 980 BE & CPU & 2011-05-03 & 45 & 125 & 258 &  758 & 3700 & Unknown & AMD   & NA & NA & NA\\\\\n\t6 & 5 & Intel Xeon E5-2470 v2   & CPU & 2013-09-01 & 22 &  95 & 160 & 1400 & 2400 & Intel   & Intel & NA & NA & NA\\\\\n\\end{tabular}\n",
            "text/plain": [
              "  ID Product                 Type Release Date Process Size (nm) TDP (W)\n",
              "1 0  AMD Athlon 64 3500+     CPU  2007-02-20   65                 45    \n",
              "2 1  AMD Athlon 200GE        CPU  2018-09-06   14                 35    \n",
              "3 2  Intel Core i5-1145G7    CPU  2020-09-02   10                 28    \n",
              "4 3  Intel Xeon E5-2603 v2   CPU  2013-09-01   22                 80    \n",
              "5 4  AMD Phenom II X4 980 BE CPU  2011-05-03   45                125    \n",
              "6 5  Intel Xeon E5-2470 v2   CPU  2013-09-01   22                 95    \n",
              "  Die Size (mm^2) Transistors (million) Freq (MHz) Foundry Vendor FP16 GFLOPS\n",
              "1  77              122                  2200       Unknown AMD    NA         \n",
              "2 192             4800                  3200       Unknown AMD    NA         \n",
              "3  NA               NA                  2600       Intel   Intel  NA         \n",
              "4 160             1400                  1800       Intel   Intel  NA         \n",
              "5 258              758                  3700       Unknown AMD    NA         \n",
              "6 160             1400                  2400       Intel   Intel  NA         \n",
              "  FP32 GFLOPS FP64 GFLOPD\n",
              "1 NA          NA         \n",
              "2 NA          NA         \n",
              "3 NA          NA         \n",
              "4 NA          NA         \n",
              "5 NA          NA         \n",
              "6 NA          NA         "
            ]
          },
          "metadata": {}
        }
      ]
    },
    {
      "cell_type": "code",
      "source": [
        "# remove all rows with NA values between the column 5 and 9 inclunding 5,9.\n",
        "cpu_gpu_data_no_NA <- cpu_gpu_data[complete.cases(cpu_gpu_data[ , 5:9]),]\n",
        "\n",
        "# It contains min, max, mean, median, sd, IQR, Q1 and Q3. Feel free to add \n",
        "#other functions that would give us more information on the data\n",
        "summary_cpu_gpu <- cpu_gpu_data_no_NA %>% group_by(Type) %>% select(Type, 'Process Size (nm)', 'TDP (W)', 'Die Size (mm^2)', 'Transistors (million)', 'Freq (MHz)') %>%\n",
        "  summarise_all(list(Min=min, Max=max,Avg=mean, Med=median, Sd=sd, iqr=IQR, Q1=~quantile(.,probs=0.25), Q3=~quantile(.,probs=0.75))) %>% \n",
        "  pivot_longer(cols=starts_with(c('Process','TDP','Die','Transistors','Freq')), names_to = \"Measure\", values_drop_na = TRUE)\n",
        "\n",
        "summary_cpu_gpu"
      ],
      "metadata": {
        "colab": {
          "base_uri": "https://localhost:8080/",
          "height": 1000
        },
        "id": "BtmaQh5pgwjg",
        "outputId": "4c713ce2-c165-493e-c210-806ae5896d92"
      },
      "execution_count": 106,
      "outputs": [
        {
          "output_type": "display_data",
          "data": {
            "text/html": [
              "<table class=\"dataframe\">\n",
              "<caption>A tibble: 80 × 3</caption>\n",
              "<thead>\n",
              "\t<tr><th scope=col>Type</th><th scope=col>Measure</th><th scope=col>value</th></tr>\n",
              "\t<tr><th scope=col>&lt;chr&gt;</th><th scope=col>&lt;chr&gt;</th><th scope=col>&lt;dbl&gt;</th></tr>\n",
              "</thead>\n",
              "<tbody>\n",
              "\t<tr><td>CPU</td><td>Process Size (nm)_Min    </td><td>    7.00000</td></tr>\n",
              "\t<tr><td>CPU</td><td>Process Size (nm)_Max    </td><td>  180.00000</td></tr>\n",
              "\t<tr><td>CPU</td><td>Process Size (nm)_Avg    </td><td>   60.47699</td></tr>\n",
              "\t<tr><td>CPU</td><td>Process Size (nm)_Med    </td><td>   45.00000</td></tr>\n",
              "\t<tr><td>CPU</td><td>Process Size (nm)_Sd     </td><td>   42.99468</td></tr>\n",
              "\t<tr><td>CPU</td><td>Process Size (nm)_iqr    </td><td>   58.00000</td></tr>\n",
              "\t<tr><td>CPU</td><td>Process Size (nm)_Q1     </td><td>   32.00000</td></tr>\n",
              "\t<tr><td>CPU</td><td>Process Size (nm)_Q3     </td><td>   90.00000</td></tr>\n",
              "\t<tr><td>CPU</td><td>TDP (W)_Min              </td><td>    1.00000</td></tr>\n",
              "\t<tr><td>CPU</td><td>TDP (W)_Max              </td><td>  300.00000</td></tr>\n",
              "\t<tr><td>CPU</td><td>TDP (W)_Avg              </td><td>   73.43422</td></tr>\n",
              "\t<tr><td>CPU</td><td>TDP (W)_Med              </td><td>   65.00000</td></tr>\n",
              "\t<tr><td>CPU</td><td>TDP (W)_Sd               </td><td>   47.64056</td></tr>\n",
              "\t<tr><td>CPU</td><td>TDP (W)_iqr              </td><td>   58.00000</td></tr>\n",
              "\t<tr><td>CPU</td><td>TDP (W)_Q1               </td><td>   37.00000</td></tr>\n",
              "\t<tr><td>CPU</td><td>TDP (W)_Q3               </td><td>   95.00000</td></tr>\n",
              "\t<tr><td>CPU</td><td>Die Size (mm^2)_Min      </td><td>    1.00000</td></tr>\n",
              "\t<tr><td>CPU</td><td>Die Size (mm^2)_Max      </td><td>  684.00000</td></tr>\n",
              "\t<tr><td>CPU</td><td>Die Size (mm^2)_Avg      </td><td>  169.55023</td></tr>\n",
              "\t<tr><td>CPU</td><td>Die Size (mm^2)_Med      </td><td>  156.00000</td></tr>\n",
              "\t<tr><td>CPU</td><td>Die Size (mm^2)_Sd       </td><td>   80.76499</td></tr>\n",
              "\t<tr><td>CPU</td><td>Die Size (mm^2)_iqr      </td><td>  111.00000</td></tr>\n",
              "\t<tr><td>CPU</td><td>Die Size (mm^2)_Q1       </td><td>  109.00000</td></tr>\n",
              "\t<tr><td>CPU</td><td>Die Size (mm^2)_Q3       </td><td>  220.00000</td></tr>\n",
              "\t<tr><td>CPU</td><td>Transistors (million)_Min</td><td>   37.00000</td></tr>\n",
              "\t<tr><td>CPU</td><td>Transistors (million)_Max</td><td>19200.00000</td></tr>\n",
              "\t<tr><td>CPU</td><td>Transistors (million)_Avg</td><td> 1088.54115</td></tr>\n",
              "\t<tr><td>CPU</td><td>Transistors (million)_Med</td><td>  450.00000</td></tr>\n",
              "\t<tr><td>CPU</td><td>Transistors (million)_Sd </td><td> 1875.18186</td></tr>\n",
              "\t<tr><td>CPU</td><td>Transistors (million)_iqr</td><td> 1075.00000</td></tr>\n",
              "\t<tr><td>⋮</td><td>⋮</td><td>⋮</td></tr>\n",
              "\t<tr><td>GPU</td><td>TDP (W)_Avg              </td><td>   92.20436</td></tr>\n",
              "\t<tr><td>GPU</td><td>TDP (W)_Med              </td><td>   55.00000</td></tr>\n",
              "\t<tr><td>GPU</td><td>TDP (W)_Sd               </td><td>   96.20399</td></tr>\n",
              "\t<tr><td>GPU</td><td>TDP (W)_iqr              </td><td>   95.00000</td></tr>\n",
              "\t<tr><td>GPU</td><td>TDP (W)_Q1               </td><td>   30.00000</td></tr>\n",
              "\t<tr><td>GPU</td><td>TDP (W)_Q3               </td><td>  125.00000</td></tr>\n",
              "\t<tr><td>GPU</td><td>Die Size (mm^2)_Min      </td><td>   56.00000</td></tr>\n",
              "\t<tr><td>GPU</td><td>Die Size (mm^2)_Max      </td><td>  826.00000</td></tr>\n",
              "\t<tr><td>GPU</td><td>Die Size (mm^2)_Avg      </td><td>  225.01171</td></tr>\n",
              "\t<tr><td>GPU</td><td>Die Size (mm^2)_Med      </td><td>  169.00000</td></tr>\n",
              "\t<tr><td>GPU</td><td>Die Size (mm^2)_Sd       </td><td>  156.26811</td></tr>\n",
              "\t<tr><td>GPU</td><td>Die Size (mm^2)_iqr      </td><td>  178.00000</td></tr>\n",
              "\t<tr><td>GPU</td><td>Die Size (mm^2)_Q1       </td><td>  116.00000</td></tr>\n",
              "\t<tr><td>GPU</td><td>Die Size (mm^2)_Q3       </td><td>  294.00000</td></tr>\n",
              "\t<tr><td>GPU</td><td>Transistors (million)_Min</td><td>   10.00000</td></tr>\n",
              "\t<tr><td>GPU</td><td>Transistors (million)_Max</td><td>54200.00000</td></tr>\n",
              "\t<tr><td>GPU</td><td>Transistors (million)_Avg</td><td> 3045.86376</td></tr>\n",
              "\t<tr><td>GPU</td><td>Transistors (million)_Med</td><td> 1170.00000</td></tr>\n",
              "\t<tr><td>GPU</td><td>Transistors (million)_Sd </td><td> 5426.40664</td></tr>\n",
              "\t<tr><td>GPU</td><td>Transistors (million)_iqr</td><td> 3226.00000</td></tr>\n",
              "\t<tr><td>GPU</td><td>Transistors (million)_Q1 </td><td>  314.00000</td></tr>\n",
              "\t<tr><td>GPU</td><td>Transistors (million)_Q3 </td><td> 3540.00000</td></tr>\n",
              "\t<tr><td>GPU</td><td>Freq (MHz)_Min           </td><td>  100.00000</td></tr>\n",
              "\t<tr><td>GPU</td><td>Freq (MHz)_Max           </td><td> 2321.00000</td></tr>\n",
              "\t<tr><td>GPU</td><td>Freq (MHz)_Avg           </td><td>  736.55136</td></tr>\n",
              "\t<tr><td>GPU</td><td>Freq (MHz)_Med           </td><td>  675.00000</td></tr>\n",
              "\t<tr><td>GPU</td><td>Freq (MHz)_Sd            </td><td>  319.34509</td></tr>\n",
              "\t<tr><td>GPU</td><td>Freq (MHz)_iqr           </td><td>  412.00000</td></tr>\n",
              "\t<tr><td>GPU</td><td>Freq (MHz)_Q1            </td><td>  513.00000</td></tr>\n",
              "\t<tr><td>GPU</td><td>Freq (MHz)_Q3            </td><td>  925.00000</td></tr>\n",
              "</tbody>\n",
              "</table>\n"
            ],
            "text/markdown": "\nA tibble: 80 × 3\n\n| Type &lt;chr&gt; | Measure &lt;chr&gt; | value &lt;dbl&gt; |\n|---|---|---|\n| CPU | Process Size (nm)_Min     |     7.00000 |\n| CPU | Process Size (nm)_Max     |   180.00000 |\n| CPU | Process Size (nm)_Avg     |    60.47699 |\n| CPU | Process Size (nm)_Med     |    45.00000 |\n| CPU | Process Size (nm)_Sd      |    42.99468 |\n| CPU | Process Size (nm)_iqr     |    58.00000 |\n| CPU | Process Size (nm)_Q1      |    32.00000 |\n| CPU | Process Size (nm)_Q3      |    90.00000 |\n| CPU | TDP (W)_Min               |     1.00000 |\n| CPU | TDP (W)_Max               |   300.00000 |\n| CPU | TDP (W)_Avg               |    73.43422 |\n| CPU | TDP (W)_Med               |    65.00000 |\n| CPU | TDP (W)_Sd                |    47.64056 |\n| CPU | TDP (W)_iqr               |    58.00000 |\n| CPU | TDP (W)_Q1                |    37.00000 |\n| CPU | TDP (W)_Q3                |    95.00000 |\n| CPU | Die Size (mm^2)_Min       |     1.00000 |\n| CPU | Die Size (mm^2)_Max       |   684.00000 |\n| CPU | Die Size (mm^2)_Avg       |   169.55023 |\n| CPU | Die Size (mm^2)_Med       |   156.00000 |\n| CPU | Die Size (mm^2)_Sd        |    80.76499 |\n| CPU | Die Size (mm^2)_iqr       |   111.00000 |\n| CPU | Die Size (mm^2)_Q1        |   109.00000 |\n| CPU | Die Size (mm^2)_Q3        |   220.00000 |\n| CPU | Transistors (million)_Min |    37.00000 |\n| CPU | Transistors (million)_Max | 19200.00000 |\n| CPU | Transistors (million)_Avg |  1088.54115 |\n| CPU | Transistors (million)_Med |   450.00000 |\n| CPU | Transistors (million)_Sd  |  1875.18186 |\n| CPU | Transistors (million)_iqr |  1075.00000 |\n| ⋮ | ⋮ | ⋮ |\n| GPU | TDP (W)_Avg               |    92.20436 |\n| GPU | TDP (W)_Med               |    55.00000 |\n| GPU | TDP (W)_Sd                |    96.20399 |\n| GPU | TDP (W)_iqr               |    95.00000 |\n| GPU | TDP (W)_Q1                |    30.00000 |\n| GPU | TDP (W)_Q3                |   125.00000 |\n| GPU | Die Size (mm^2)_Min       |    56.00000 |\n| GPU | Die Size (mm^2)_Max       |   826.00000 |\n| GPU | Die Size (mm^2)_Avg       |   225.01171 |\n| GPU | Die Size (mm^2)_Med       |   169.00000 |\n| GPU | Die Size (mm^2)_Sd        |   156.26811 |\n| GPU | Die Size (mm^2)_iqr       |   178.00000 |\n| GPU | Die Size (mm^2)_Q1        |   116.00000 |\n| GPU | Die Size (mm^2)_Q3        |   294.00000 |\n| GPU | Transistors (million)_Min |    10.00000 |\n| GPU | Transistors (million)_Max | 54200.00000 |\n| GPU | Transistors (million)_Avg |  3045.86376 |\n| GPU | Transistors (million)_Med |  1170.00000 |\n| GPU | Transistors (million)_Sd  |  5426.40664 |\n| GPU | Transistors (million)_iqr |  3226.00000 |\n| GPU | Transistors (million)_Q1  |   314.00000 |\n| GPU | Transistors (million)_Q3  |  3540.00000 |\n| GPU | Freq (MHz)_Min            |   100.00000 |\n| GPU | Freq (MHz)_Max            |  2321.00000 |\n| GPU | Freq (MHz)_Avg            |   736.55136 |\n| GPU | Freq (MHz)_Med            |   675.00000 |\n| GPU | Freq (MHz)_Sd             |   319.34509 |\n| GPU | Freq (MHz)_iqr            |   412.00000 |\n| GPU | Freq (MHz)_Q1             |   513.00000 |\n| GPU | Freq (MHz)_Q3             |   925.00000 |\n\n",
            "text/latex": "A tibble: 80 × 3\n\\begin{tabular}{lll}\n Type & Measure & value\\\\\n <chr> & <chr> & <dbl>\\\\\n\\hline\n\t CPU & Process Size (nm)\\_Min     &     7.00000\\\\\n\t CPU & Process Size (nm)\\_Max     &   180.00000\\\\\n\t CPU & Process Size (nm)\\_Avg     &    60.47699\\\\\n\t CPU & Process Size (nm)\\_Med     &    45.00000\\\\\n\t CPU & Process Size (nm)\\_Sd      &    42.99468\\\\\n\t CPU & Process Size (nm)\\_iqr     &    58.00000\\\\\n\t CPU & Process Size (nm)\\_Q1      &    32.00000\\\\\n\t CPU & Process Size (nm)\\_Q3      &    90.00000\\\\\n\t CPU & TDP (W)\\_Min               &     1.00000\\\\\n\t CPU & TDP (W)\\_Max               &   300.00000\\\\\n\t CPU & TDP (W)\\_Avg               &    73.43422\\\\\n\t CPU & TDP (W)\\_Med               &    65.00000\\\\\n\t CPU & TDP (W)\\_Sd                &    47.64056\\\\\n\t CPU & TDP (W)\\_iqr               &    58.00000\\\\\n\t CPU & TDP (W)\\_Q1                &    37.00000\\\\\n\t CPU & TDP (W)\\_Q3                &    95.00000\\\\\n\t CPU & Die Size (mm\\textasciicircum{}2)\\_Min       &     1.00000\\\\\n\t CPU & Die Size (mm\\textasciicircum{}2)\\_Max       &   684.00000\\\\\n\t CPU & Die Size (mm\\textasciicircum{}2)\\_Avg       &   169.55023\\\\\n\t CPU & Die Size (mm\\textasciicircum{}2)\\_Med       &   156.00000\\\\\n\t CPU & Die Size (mm\\textasciicircum{}2)\\_Sd        &    80.76499\\\\\n\t CPU & Die Size (mm\\textasciicircum{}2)\\_iqr       &   111.00000\\\\\n\t CPU & Die Size (mm\\textasciicircum{}2)\\_Q1        &   109.00000\\\\\n\t CPU & Die Size (mm\\textasciicircum{}2)\\_Q3        &   220.00000\\\\\n\t CPU & Transistors (million)\\_Min &    37.00000\\\\\n\t CPU & Transistors (million)\\_Max & 19200.00000\\\\\n\t CPU & Transistors (million)\\_Avg &  1088.54115\\\\\n\t CPU & Transistors (million)\\_Med &   450.00000\\\\\n\t CPU & Transistors (million)\\_Sd  &  1875.18186\\\\\n\t CPU & Transistors (million)\\_iqr &  1075.00000\\\\\n\t ⋮ & ⋮ & ⋮\\\\\n\t GPU & TDP (W)\\_Avg               &    92.20436\\\\\n\t GPU & TDP (W)\\_Med               &    55.00000\\\\\n\t GPU & TDP (W)\\_Sd                &    96.20399\\\\\n\t GPU & TDP (W)\\_iqr               &    95.00000\\\\\n\t GPU & TDP (W)\\_Q1                &    30.00000\\\\\n\t GPU & TDP (W)\\_Q3                &   125.00000\\\\\n\t GPU & Die Size (mm\\textasciicircum{}2)\\_Min       &    56.00000\\\\\n\t GPU & Die Size (mm\\textasciicircum{}2)\\_Max       &   826.00000\\\\\n\t GPU & Die Size (mm\\textasciicircum{}2)\\_Avg       &   225.01171\\\\\n\t GPU & Die Size (mm\\textasciicircum{}2)\\_Med       &   169.00000\\\\\n\t GPU & Die Size (mm\\textasciicircum{}2)\\_Sd        &   156.26811\\\\\n\t GPU & Die Size (mm\\textasciicircum{}2)\\_iqr       &   178.00000\\\\\n\t GPU & Die Size (mm\\textasciicircum{}2)\\_Q1        &   116.00000\\\\\n\t GPU & Die Size (mm\\textasciicircum{}2)\\_Q3        &   294.00000\\\\\n\t GPU & Transistors (million)\\_Min &    10.00000\\\\\n\t GPU & Transistors (million)\\_Max & 54200.00000\\\\\n\t GPU & Transistors (million)\\_Avg &  3045.86376\\\\\n\t GPU & Transistors (million)\\_Med &  1170.00000\\\\\n\t GPU & Transistors (million)\\_Sd  &  5426.40664\\\\\n\t GPU & Transistors (million)\\_iqr &  3226.00000\\\\\n\t GPU & Transistors (million)\\_Q1  &   314.00000\\\\\n\t GPU & Transistors (million)\\_Q3  &  3540.00000\\\\\n\t GPU & Freq (MHz)\\_Min            &   100.00000\\\\\n\t GPU & Freq (MHz)\\_Max            &  2321.00000\\\\\n\t GPU & Freq (MHz)\\_Avg            &   736.55136\\\\\n\t GPU & Freq (MHz)\\_Med            &   675.00000\\\\\n\t GPU & Freq (MHz)\\_Sd             &   319.34509\\\\\n\t GPU & Freq (MHz)\\_iqr            &   412.00000\\\\\n\t GPU & Freq (MHz)\\_Q1             &   513.00000\\\\\n\t GPU & Freq (MHz)\\_Q3             &   925.00000\\\\\n\\end{tabular}\n",
            "text/plain": [
              "   Type Measure                   value      \n",
              "1  CPU  Process Size (nm)_Min         7.00000\n",
              "2  CPU  Process Size (nm)_Max       180.00000\n",
              "3  CPU  Process Size (nm)_Avg        60.47699\n",
              "4  CPU  Process Size (nm)_Med        45.00000\n",
              "5  CPU  Process Size (nm)_Sd         42.99468\n",
              "6  CPU  Process Size (nm)_iqr        58.00000\n",
              "7  CPU  Process Size (nm)_Q1         32.00000\n",
              "8  CPU  Process Size (nm)_Q3         90.00000\n",
              "9  CPU  TDP (W)_Min                   1.00000\n",
              "10 CPU  TDP (W)_Max                 300.00000\n",
              "11 CPU  TDP (W)_Avg                  73.43422\n",
              "12 CPU  TDP (W)_Med                  65.00000\n",
              "13 CPU  TDP (W)_Sd                   47.64056\n",
              "14 CPU  TDP (W)_iqr                  58.00000\n",
              "15 CPU  TDP (W)_Q1                   37.00000\n",
              "16 CPU  TDP (W)_Q3                   95.00000\n",
              "17 CPU  Die Size (mm^2)_Min           1.00000\n",
              "18 CPU  Die Size (mm^2)_Max         684.00000\n",
              "19 CPU  Die Size (mm^2)_Avg         169.55023\n",
              "20 CPU  Die Size (mm^2)_Med         156.00000\n",
              "21 CPU  Die Size (mm^2)_Sd           80.76499\n",
              "22 CPU  Die Size (mm^2)_iqr         111.00000\n",
              "23 CPU  Die Size (mm^2)_Q1          109.00000\n",
              "24 CPU  Die Size (mm^2)_Q3          220.00000\n",
              "25 CPU  Transistors (million)_Min    37.00000\n",
              "26 CPU  Transistors (million)_Max 19200.00000\n",
              "27 CPU  Transistors (million)_Avg  1088.54115\n",
              "28 CPU  Transistors (million)_Med   450.00000\n",
              "29 CPU  Transistors (million)_Sd   1875.18186\n",
              "30 CPU  Transistors (million)_iqr  1075.00000\n",
              "⋮  ⋮    ⋮                         ⋮          \n",
              "51 GPU  TDP (W)_Avg                  92.20436\n",
              "52 GPU  TDP (W)_Med                  55.00000\n",
              "53 GPU  TDP (W)_Sd                   96.20399\n",
              "54 GPU  TDP (W)_iqr                  95.00000\n",
              "55 GPU  TDP (W)_Q1                   30.00000\n",
              "56 GPU  TDP (W)_Q3                  125.00000\n",
              "57 GPU  Die Size (mm^2)_Min          56.00000\n",
              "58 GPU  Die Size (mm^2)_Max         826.00000\n",
              "59 GPU  Die Size (mm^2)_Avg         225.01171\n",
              "60 GPU  Die Size (mm^2)_Med         169.00000\n",
              "61 GPU  Die Size (mm^2)_Sd          156.26811\n",
              "62 GPU  Die Size (mm^2)_iqr         178.00000\n",
              "63 GPU  Die Size (mm^2)_Q1          116.00000\n",
              "64 GPU  Die Size (mm^2)_Q3          294.00000\n",
              "65 GPU  Transistors (million)_Min    10.00000\n",
              "66 GPU  Transistors (million)_Max 54200.00000\n",
              "67 GPU  Transistors (million)_Avg  3045.86376\n",
              "68 GPU  Transistors (million)_Med  1170.00000\n",
              "69 GPU  Transistors (million)_Sd   5426.40664\n",
              "70 GPU  Transistors (million)_iqr  3226.00000\n",
              "71 GPU  Transistors (million)_Q1    314.00000\n",
              "72 GPU  Transistors (million)_Q3   3540.00000\n",
              "73 GPU  Freq (MHz)_Min              100.00000\n",
              "74 GPU  Freq (MHz)_Max             2321.00000\n",
              "75 GPU  Freq (MHz)_Avg              736.55136\n",
              "76 GPU  Freq (MHz)_Med              675.00000\n",
              "77 GPU  Freq (MHz)_Sd               319.34509\n",
              "78 GPU  Freq (MHz)_iqr              412.00000\n",
              "79 GPU  Freq (MHz)_Q1               513.00000\n",
              "80 GPU  Freq (MHz)_Q3               925.00000"
            ]
          },
          "metadata": {}
        }
      ]
    },
    {
      "cell_type": "code",
      "source": [
        "# pivoting wider to compare more easily the difference between CPU and GPU\n",
        "summary_cpu_gpu %>% pivot_wider(names_from = Type, values_from = value)"
      ],
      "metadata": {
        "colab": {
          "base_uri": "https://localhost:8080/",
          "height": 1000
        },
        "id": "MDnZz5ntkXqR",
        "outputId": "b2a0a08b-34d5-4c8a-c920-f9b70a146800"
      },
      "execution_count": 108,
      "outputs": [
        {
          "output_type": "display_data",
          "data": {
            "text/html": [
              "<table class=\"dataframe\">\n",
              "<caption>A tibble: 40 × 3</caption>\n",
              "<thead>\n",
              "\t<tr><th scope=col>Measure</th><th scope=col>CPU</th><th scope=col>GPU</th></tr>\n",
              "\t<tr><th scope=col>&lt;chr&gt;</th><th scope=col>&lt;dbl&gt;</th><th scope=col>&lt;dbl&gt;</th></tr>\n",
              "</thead>\n",
              "<tbody>\n",
              "\t<tr><td>Process Size (nm)_Min    </td><td>    7.00000</td><td>    7.00000</td></tr>\n",
              "\t<tr><td>Process Size (nm)_Max    </td><td>  180.00000</td><td>  250.00000</td></tr>\n",
              "\t<tr><td>Process Size (nm)_Avg    </td><td>   60.47699</td><td>   46.94838</td></tr>\n",
              "\t<tr><td>Process Size (nm)_Med    </td><td>   45.00000</td><td>   40.00000</td></tr>\n",
              "\t<tr><td>Process Size (nm)_Sd     </td><td>   42.99468</td><td>   38.51769</td></tr>\n",
              "\t<tr><td>Process Size (nm)_iqr    </td><td>   58.00000</td><td>   27.00000</td></tr>\n",
              "\t<tr><td>Process Size (nm)_Q1     </td><td>   32.00000</td><td>   28.00000</td></tr>\n",
              "\t<tr><td>Process Size (nm)_Q3     </td><td>   90.00000</td><td>   55.00000</td></tr>\n",
              "\t<tr><td>TDP (W)_Min              </td><td>    1.00000</td><td>    2.00000</td></tr>\n",
              "\t<tr><td>TDP (W)_Max              </td><td>  300.00000</td><td>  900.00000</td></tr>\n",
              "\t<tr><td>TDP (W)_Avg              </td><td>   73.43422</td><td>   92.20436</td></tr>\n",
              "\t<tr><td>TDP (W)_Med              </td><td>   65.00000</td><td>   55.00000</td></tr>\n",
              "\t<tr><td>TDP (W)_Sd               </td><td>   47.64056</td><td>   96.20399</td></tr>\n",
              "\t<tr><td>TDP (W)_iqr              </td><td>   58.00000</td><td>   95.00000</td></tr>\n",
              "\t<tr><td>TDP (W)_Q1               </td><td>   37.00000</td><td>   30.00000</td></tr>\n",
              "\t<tr><td>TDP (W)_Q3               </td><td>   95.00000</td><td>  125.00000</td></tr>\n",
              "\t<tr><td>Die Size (mm^2)_Min      </td><td>    1.00000</td><td>   56.00000</td></tr>\n",
              "\t<tr><td>Die Size (mm^2)_Max      </td><td>  684.00000</td><td>  826.00000</td></tr>\n",
              "\t<tr><td>Die Size (mm^2)_Avg      </td><td>  169.55023</td><td>  225.01171</td></tr>\n",
              "\t<tr><td>Die Size (mm^2)_Med      </td><td>  156.00000</td><td>  169.00000</td></tr>\n",
              "\t<tr><td>Die Size (mm^2)_Sd       </td><td>   80.76499</td><td>  156.26811</td></tr>\n",
              "\t<tr><td>Die Size (mm^2)_iqr      </td><td>  111.00000</td><td>  178.00000</td></tr>\n",
              "\t<tr><td>Die Size (mm^2)_Q1       </td><td>  109.00000</td><td>  116.00000</td></tr>\n",
              "\t<tr><td>Die Size (mm^2)_Q3       </td><td>  220.00000</td><td>  294.00000</td></tr>\n",
              "\t<tr><td>Transistors (million)_Min</td><td>   37.00000</td><td>   10.00000</td></tr>\n",
              "\t<tr><td>Transistors (million)_Max</td><td>19200.00000</td><td>54200.00000</td></tr>\n",
              "\t<tr><td>Transistors (million)_Avg</td><td> 1088.54115</td><td> 3045.86376</td></tr>\n",
              "\t<tr><td>Transistors (million)_Med</td><td>  450.00000</td><td> 1170.00000</td></tr>\n",
              "\t<tr><td>Transistors (million)_Sd </td><td> 1875.18186</td><td> 5426.40664</td></tr>\n",
              "\t<tr><td>Transistors (million)_iqr</td><td> 1075.00000</td><td> 3226.00000</td></tr>\n",
              "\t<tr><td>Transistors (million)_Q1 </td><td>  125.00000</td><td>  314.00000</td></tr>\n",
              "\t<tr><td>Transistors (million)_Q3 </td><td> 1200.00000</td><td> 3540.00000</td></tr>\n",
              "\t<tr><td>Freq (MHz)_Min           </td><td>  600.00000</td><td>  100.00000</td></tr>\n",
              "\t<tr><td>Freq (MHz)_Max           </td><td> 4700.00000</td><td> 2321.00000</td></tr>\n",
              "\t<tr><td>Freq (MHz)_Avg           </td><td> 2447.35904</td><td>  736.55136</td></tr>\n",
              "\t<tr><td>Freq (MHz)_Med           </td><td> 2400.00000</td><td>  675.00000</td></tr>\n",
              "\t<tr><td>Freq (MHz)_Sd            </td><td>  737.01419</td><td>  319.34509</td></tr>\n",
              "\t<tr><td>Freq (MHz)_iqr           </td><td> 1100.00000</td><td>  412.00000</td></tr>\n",
              "\t<tr><td>Freq (MHz)_Q1            </td><td> 1900.00000</td><td>  513.00000</td></tr>\n",
              "\t<tr><td>Freq (MHz)_Q3            </td><td> 3000.00000</td><td>  925.00000</td></tr>\n",
              "</tbody>\n",
              "</table>\n"
            ],
            "text/markdown": "\nA tibble: 40 × 3\n\n| Measure &lt;chr&gt; | CPU &lt;dbl&gt; | GPU &lt;dbl&gt; |\n|---|---|---|\n| Process Size (nm)_Min     |     7.00000 |     7.00000 |\n| Process Size (nm)_Max     |   180.00000 |   250.00000 |\n| Process Size (nm)_Avg     |    60.47699 |    46.94838 |\n| Process Size (nm)_Med     |    45.00000 |    40.00000 |\n| Process Size (nm)_Sd      |    42.99468 |    38.51769 |\n| Process Size (nm)_iqr     |    58.00000 |    27.00000 |\n| Process Size (nm)_Q1      |    32.00000 |    28.00000 |\n| Process Size (nm)_Q3      |    90.00000 |    55.00000 |\n| TDP (W)_Min               |     1.00000 |     2.00000 |\n| TDP (W)_Max               |   300.00000 |   900.00000 |\n| TDP (W)_Avg               |    73.43422 |    92.20436 |\n| TDP (W)_Med               |    65.00000 |    55.00000 |\n| TDP (W)_Sd                |    47.64056 |    96.20399 |\n| TDP (W)_iqr               |    58.00000 |    95.00000 |\n| TDP (W)_Q1                |    37.00000 |    30.00000 |\n| TDP (W)_Q3                |    95.00000 |   125.00000 |\n| Die Size (mm^2)_Min       |     1.00000 |    56.00000 |\n| Die Size (mm^2)_Max       |   684.00000 |   826.00000 |\n| Die Size (mm^2)_Avg       |   169.55023 |   225.01171 |\n| Die Size (mm^2)_Med       |   156.00000 |   169.00000 |\n| Die Size (mm^2)_Sd        |    80.76499 |   156.26811 |\n| Die Size (mm^2)_iqr       |   111.00000 |   178.00000 |\n| Die Size (mm^2)_Q1        |   109.00000 |   116.00000 |\n| Die Size (mm^2)_Q3        |   220.00000 |   294.00000 |\n| Transistors (million)_Min |    37.00000 |    10.00000 |\n| Transistors (million)_Max | 19200.00000 | 54200.00000 |\n| Transistors (million)_Avg |  1088.54115 |  3045.86376 |\n| Transistors (million)_Med |   450.00000 |  1170.00000 |\n| Transistors (million)_Sd  |  1875.18186 |  5426.40664 |\n| Transistors (million)_iqr |  1075.00000 |  3226.00000 |\n| Transistors (million)_Q1  |   125.00000 |   314.00000 |\n| Transistors (million)_Q3  |  1200.00000 |  3540.00000 |\n| Freq (MHz)_Min            |   600.00000 |   100.00000 |\n| Freq (MHz)_Max            |  4700.00000 |  2321.00000 |\n| Freq (MHz)_Avg            |  2447.35904 |   736.55136 |\n| Freq (MHz)_Med            |  2400.00000 |   675.00000 |\n| Freq (MHz)_Sd             |   737.01419 |   319.34509 |\n| Freq (MHz)_iqr            |  1100.00000 |   412.00000 |\n| Freq (MHz)_Q1             |  1900.00000 |   513.00000 |\n| Freq (MHz)_Q3             |  3000.00000 |   925.00000 |\n\n",
            "text/latex": "A tibble: 40 × 3\n\\begin{tabular}{lll}\n Measure & CPU & GPU\\\\\n <chr> & <dbl> & <dbl>\\\\\n\\hline\n\t Process Size (nm)\\_Min     &     7.00000 &     7.00000\\\\\n\t Process Size (nm)\\_Max     &   180.00000 &   250.00000\\\\\n\t Process Size (nm)\\_Avg     &    60.47699 &    46.94838\\\\\n\t Process Size (nm)\\_Med     &    45.00000 &    40.00000\\\\\n\t Process Size (nm)\\_Sd      &    42.99468 &    38.51769\\\\\n\t Process Size (nm)\\_iqr     &    58.00000 &    27.00000\\\\\n\t Process Size (nm)\\_Q1      &    32.00000 &    28.00000\\\\\n\t Process Size (nm)\\_Q3      &    90.00000 &    55.00000\\\\\n\t TDP (W)\\_Min               &     1.00000 &     2.00000\\\\\n\t TDP (W)\\_Max               &   300.00000 &   900.00000\\\\\n\t TDP (W)\\_Avg               &    73.43422 &    92.20436\\\\\n\t TDP (W)\\_Med               &    65.00000 &    55.00000\\\\\n\t TDP (W)\\_Sd                &    47.64056 &    96.20399\\\\\n\t TDP (W)\\_iqr               &    58.00000 &    95.00000\\\\\n\t TDP (W)\\_Q1                &    37.00000 &    30.00000\\\\\n\t TDP (W)\\_Q3                &    95.00000 &   125.00000\\\\\n\t Die Size (mm\\textasciicircum{}2)\\_Min       &     1.00000 &    56.00000\\\\\n\t Die Size (mm\\textasciicircum{}2)\\_Max       &   684.00000 &   826.00000\\\\\n\t Die Size (mm\\textasciicircum{}2)\\_Avg       &   169.55023 &   225.01171\\\\\n\t Die Size (mm\\textasciicircum{}2)\\_Med       &   156.00000 &   169.00000\\\\\n\t Die Size (mm\\textasciicircum{}2)\\_Sd        &    80.76499 &   156.26811\\\\\n\t Die Size (mm\\textasciicircum{}2)\\_iqr       &   111.00000 &   178.00000\\\\\n\t Die Size (mm\\textasciicircum{}2)\\_Q1        &   109.00000 &   116.00000\\\\\n\t Die Size (mm\\textasciicircum{}2)\\_Q3        &   220.00000 &   294.00000\\\\\n\t Transistors (million)\\_Min &    37.00000 &    10.00000\\\\\n\t Transistors (million)\\_Max & 19200.00000 & 54200.00000\\\\\n\t Transistors (million)\\_Avg &  1088.54115 &  3045.86376\\\\\n\t Transistors (million)\\_Med &   450.00000 &  1170.00000\\\\\n\t Transistors (million)\\_Sd  &  1875.18186 &  5426.40664\\\\\n\t Transistors (million)\\_iqr &  1075.00000 &  3226.00000\\\\\n\t Transistors (million)\\_Q1  &   125.00000 &   314.00000\\\\\n\t Transistors (million)\\_Q3  &  1200.00000 &  3540.00000\\\\\n\t Freq (MHz)\\_Min            &   600.00000 &   100.00000\\\\\n\t Freq (MHz)\\_Max            &  4700.00000 &  2321.00000\\\\\n\t Freq (MHz)\\_Avg            &  2447.35904 &   736.55136\\\\\n\t Freq (MHz)\\_Med            &  2400.00000 &   675.00000\\\\\n\t Freq (MHz)\\_Sd             &   737.01419 &   319.34509\\\\\n\t Freq (MHz)\\_iqr            &  1100.00000 &   412.00000\\\\\n\t Freq (MHz)\\_Q1             &  1900.00000 &   513.00000\\\\\n\t Freq (MHz)\\_Q3             &  3000.00000 &   925.00000\\\\\n\\end{tabular}\n",
            "text/plain": [
              "   Measure                   CPU         GPU        \n",
              "1  Process Size (nm)_Min         7.00000     7.00000\n",
              "2  Process Size (nm)_Max       180.00000   250.00000\n",
              "3  Process Size (nm)_Avg        60.47699    46.94838\n",
              "4  Process Size (nm)_Med        45.00000    40.00000\n",
              "5  Process Size (nm)_Sd         42.99468    38.51769\n",
              "6  Process Size (nm)_iqr        58.00000    27.00000\n",
              "7  Process Size (nm)_Q1         32.00000    28.00000\n",
              "8  Process Size (nm)_Q3         90.00000    55.00000\n",
              "9  TDP (W)_Min                   1.00000     2.00000\n",
              "10 TDP (W)_Max                 300.00000   900.00000\n",
              "11 TDP (W)_Avg                  73.43422    92.20436\n",
              "12 TDP (W)_Med                  65.00000    55.00000\n",
              "13 TDP (W)_Sd                   47.64056    96.20399\n",
              "14 TDP (W)_iqr                  58.00000    95.00000\n",
              "15 TDP (W)_Q1                   37.00000    30.00000\n",
              "16 TDP (W)_Q3                   95.00000   125.00000\n",
              "17 Die Size (mm^2)_Min           1.00000    56.00000\n",
              "18 Die Size (mm^2)_Max         684.00000   826.00000\n",
              "19 Die Size (mm^2)_Avg         169.55023   225.01171\n",
              "20 Die Size (mm^2)_Med         156.00000   169.00000\n",
              "21 Die Size (mm^2)_Sd           80.76499   156.26811\n",
              "22 Die Size (mm^2)_iqr         111.00000   178.00000\n",
              "23 Die Size (mm^2)_Q1          109.00000   116.00000\n",
              "24 Die Size (mm^2)_Q3          220.00000   294.00000\n",
              "25 Transistors (million)_Min    37.00000    10.00000\n",
              "26 Transistors (million)_Max 19200.00000 54200.00000\n",
              "27 Transistors (million)_Avg  1088.54115  3045.86376\n",
              "28 Transistors (million)_Med   450.00000  1170.00000\n",
              "29 Transistors (million)_Sd   1875.18186  5426.40664\n",
              "30 Transistors (million)_iqr  1075.00000  3226.00000\n",
              "31 Transistors (million)_Q1    125.00000   314.00000\n",
              "32 Transistors (million)_Q3   1200.00000  3540.00000\n",
              "33 Freq (MHz)_Min              600.00000   100.00000\n",
              "34 Freq (MHz)_Max             4700.00000  2321.00000\n",
              "35 Freq (MHz)_Avg             2447.35904   736.55136\n",
              "36 Freq (MHz)_Med             2400.00000   675.00000\n",
              "37 Freq (MHz)_Sd               737.01419   319.34509\n",
              "38 Freq (MHz)_iqr             1100.00000   412.00000\n",
              "39 Freq (MHz)_Q1              1900.00000   513.00000\n",
              "40 Freq (MHz)_Q3              3000.00000   925.00000"
            ]
          },
          "metadata": {}
        }
      ]
    }
  ]
}